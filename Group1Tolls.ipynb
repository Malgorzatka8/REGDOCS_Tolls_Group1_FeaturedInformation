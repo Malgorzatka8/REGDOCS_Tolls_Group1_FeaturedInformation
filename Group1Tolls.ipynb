{
 "cells": [
  {
   "cell_type": "markdown",
   "id": "a870039a",
   "metadata": {
    "toc": true
   },
   "source": [
    "<h1>Table of Contents<span class=\"tocSkip\"></span></h1>\n",
    "<div class=\"toc\"><ul class=\"toc-item\"><li><span><a href=\"#get_documents-function\" data-toc-modified-id=\"get_documents-function-1\"><span class=\"toc-item-num\">1&nbsp;&nbsp;</span>get_documents function</a></span></li><li><span><a href=\"#get_featured_information-function\" data-toc-modified-id=\"get_featured_information-function-2\"><span class=\"toc-item-num\">2&nbsp;&nbsp;</span>get_featured_information function</a></span></li><li><span><a href=\"#Group1Tolls---Oil\" data-toc-modified-id=\"Group1Tolls---Oil-3\"><span class=\"toc-item-num\">3&nbsp;&nbsp;</span>Group1Tolls - Oil</a></span><ul class=\"toc-item\"><li><span><a href=\"#Results-level-1\" data-toc-modified-id=\"Results-level-1-3.1\"><span class=\"toc-item-num\">3.1&nbsp;&nbsp;</span>Results level 1</a></span></li><li><span><a href=\"#Featured-level-2\" data-toc-modified-id=\"Featured-level-2-3.2\"><span class=\"toc-item-num\">3.2&nbsp;&nbsp;</span>Featured level 2</a></span></li><li><span><a href=\"#Featured-level-3\" data-toc-modified-id=\"Featured-level-3-3.3\"><span class=\"toc-item-num\">3.3&nbsp;&nbsp;</span>Featured level 3</a></span></li><li><span><a href=\"#Featured-level-4\" data-toc-modified-id=\"Featured-level-4-3.4\"><span class=\"toc-item-num\">3.4&nbsp;&nbsp;</span>Featured level 4</a></span><ul class=\"toc-item\"><li><span><a href=\"#Featured-level-4-path\" data-toc-modified-id=\"Featured-level-4-path-3.4.1\"><span class=\"toc-item-num\">3.4.1&nbsp;&nbsp;</span>Featured level 4 path</a></span></li><li><span><a href=\"#Featured-level-4-documents\" data-toc-modified-id=\"Featured-level-4-documents-3.4.2\"><span class=\"toc-item-num\">3.4.2&nbsp;&nbsp;</span>Featured level 4 documents</a></span></li></ul></li><li><span><a href=\"#Featured-level-5\" data-toc-modified-id=\"Featured-level-5-3.5\"><span class=\"toc-item-num\">3.5&nbsp;&nbsp;</span>Featured level 5</a></span><ul class=\"toc-item\"><li><span><a href=\"#Featured-level-5-path\" data-toc-modified-id=\"Featured-level-5-path-3.5.1\"><span class=\"toc-item-num\">3.5.1&nbsp;&nbsp;</span>Featured level 5 path</a></span></li><li><span><a href=\"#Featured-level-5-documents\" data-toc-modified-id=\"Featured-level-5-documents-3.5.2\"><span class=\"toc-item-num\">3.5.2&nbsp;&nbsp;</span>Featured level 5 documents</a></span></li></ul></li><li><span><a href=\"#Featured-level-6\" data-toc-modified-id=\"Featured-level-6-3.6\"><span class=\"toc-item-num\">3.6&nbsp;&nbsp;</span>Featured level 6</a></span></li></ul></li><li><span><a href=\"#Group1Tolls---Gas\" data-toc-modified-id=\"Group1Tolls---Gas-4\"><span class=\"toc-item-num\">4&nbsp;&nbsp;</span>Group1Tolls - Gas</a></span><ul class=\"toc-item\"><li><span><a href=\"#Results-level-1\" data-toc-modified-id=\"Results-level-1-4.1\"><span class=\"toc-item-num\">4.1&nbsp;&nbsp;</span>Results level 1</a></span></li><li><span><a href=\"#Featured-level-2\" data-toc-modified-id=\"Featured-level-2-4.2\"><span class=\"toc-item-num\">4.2&nbsp;&nbsp;</span>Featured level 2</a></span></li><li><span><a href=\"#Featured-level-3\" data-toc-modified-id=\"Featured-level-3-4.3\"><span class=\"toc-item-num\">4.3&nbsp;&nbsp;</span>Featured level 3</a></span></li><li><span><a href=\"#Featured-level-4\" data-toc-modified-id=\"Featured-level-4-4.4\"><span class=\"toc-item-num\">4.4&nbsp;&nbsp;</span>Featured level 4</a></span><ul class=\"toc-item\"><li><span><a href=\"#Featured-level-4-path\" data-toc-modified-id=\"Featured-level-4-path-4.4.1\"><span class=\"toc-item-num\">4.4.1&nbsp;&nbsp;</span>Featured level 4 path</a></span></li><li><span><a href=\"#Featured-level-4-documents\" data-toc-modified-id=\"Featured-level-4-documents-4.4.2\"><span class=\"toc-item-num\">4.4.2&nbsp;&nbsp;</span>Featured level 4 documents</a></span></li></ul></li><li><span><a href=\"#Featured-level-5\" data-toc-modified-id=\"Featured-level-5-4.5\"><span class=\"toc-item-num\">4.5&nbsp;&nbsp;</span>Featured level 5</a></span><ul class=\"toc-item\"><li><span><a href=\"#Featured-level-5-path\" data-toc-modified-id=\"Featured-level-5-path-4.5.1\"><span class=\"toc-item-num\">4.5.1&nbsp;&nbsp;</span>Featured level 5 path</a></span></li><li><span><a href=\"#Featured-level-5-documents\" data-toc-modified-id=\"Featured-level-5-documents-4.5.2\"><span class=\"toc-item-num\">4.5.2&nbsp;&nbsp;</span>Featured level 5 documents</a></span></li></ul></li></ul></li><li><span><a href=\"#Group1Tolls_all.csv\" data-toc-modified-id=\"Group1Tolls_all.csv-5\"><span class=\"toc-item-num\">5&nbsp;&nbsp;</span>Group1Tolls_all.csv</a></span></li></ul></div>"
   ]
  },
  {
   "cell_type": "code",
   "execution_count": 1,
   "id": "7a49c27c",
   "metadata": {},
   "outputs": [],
   "source": [
    "#TABLEAU dashboard for this data file available: \n",
    "\n",
    "import pandas as pd\n",
    "import queue\n",
    "from requests_toolbelt.threaded import pool\n",
    "import requests\n",
    "from bs4 import BeautifulSoup as bs\n",
    "import io\n",
    "import pandas as pd\n",
    "from collections import Counter\n",
    "import requests\n",
    "from bs4 import BeautifulSoup as bs\n",
    "from IPython.core.interactiveshell import InteractiveShell\n",
    "InteractiveShell.ast_node_interactivity = 'all'\n",
    "from matplotlib import pyplot as plot"
   ]
  },
  {
   "cell_type": "markdown",
   "id": "b8cf41bd",
   "metadata": {},
   "source": [
    "# get_documents function"
   ]
  },
  {
   "cell_type": "code",
   "execution_count": 2,
   "id": "a4779536",
   "metadata": {},
   "outputs": [],
   "source": [
    "def get_documents(source, string1, string2):\n",
    "    \n",
    "    jobs = queue.Queue()\n",
    "    \n",
    "    for x in source:\n",
    "        jobs.put({'method' : 'GET', 'url' : x, 'cookies' : {'RDI-NumberOfRecords' : '200'} })\n",
    "        \n",
    "    p = pool.Pool(job_queue = jobs) #pooling for speed\n",
    "    p.join_all()\n",
    "    \n",
    "    for r in p.responses():\n",
    "\n",
    "        soup = bs(r.text, 'html.parser')\n",
    "        \n",
    "        try:\n",
    "            text = [x.text for x in soup.find_all('a', {'class' : 'link-wait no-expand'})]\n",
    "            \n",
    "            url = [x['href'] for x in soup.find_all('a', {'class' : 'link-wait no-expand'})]\n",
    "            url = ['https://apps.cer-rec.gc.ca' + x for x in url]\n",
    "            url = [x.replace('/View', '/LoadResult') for x in url]\n",
    "            \n",
    "            df = pd.DataFrame({string1 + 'text': text, string1 + 'url' : url, \\\n",
    "                              string2 + 'url' : r.request_kwargs['url']})\n",
    "            \n",
    "            dfs_collector.append(df)\n",
    "            \n",
    "            document_download_link = [x['href'] for x in soup.find_all('a', {'class' : 'row-icon'})]\n",
    "            document_name = [x.text for x in soup.find_all('a', {'class' : 'row-icon'})]\n",
    "            document_date = [x.text for x in soup.find_all('td', {'class' : 'nowrap'})]\n",
    "            doc_submitter = [x.text for x in soup.find_all('td', {'class' : 'col-md-2'})]\n",
    "\n",
    "            df = pd.DataFrame({'document_name' : document_name, 'document_download_link' : document_download_link, \\\n",
    "                                'document_date' : document_date, 'doc_submitter' : doc_submitter, \\\n",
    "                                string2 + 'url' : r.request_kwargs['url']})\n",
    "            dfs_collector.append(df)\n",
    "            \n",
    "        except:\n",
    "            pass\n",
    "#             print(r.request_kwargs['url']) prints that are in featured_information"
   ]
  },
  {
   "cell_type": "markdown",
   "id": "8512c25c",
   "metadata": {},
   "source": [
    "# get_featured_information function"
   ]
  },
  {
   "cell_type": "code",
   "execution_count": 3,
   "id": "85b87684",
   "metadata": {},
   "outputs": [],
   "source": [
    "#this function is different than get_documents due to unique html elements in 'Feature Information' in CER CMS.\n",
    "def get_featured_information(source, string1, string2):\n",
    "    \n",
    "    jobs = queue.Queue()\n",
    "    \n",
    "    for x in source:\n",
    "        jobs.put({'method' : 'GET', 'url' : x, 'cookies' : {'RDI-NumberOfRecords' : '200'} })\n",
    "        \n",
    "    p = pool.Pool(job_queue = jobs)\n",
    "    p.join_all()\n",
    "    \n",
    "    for r in p.responses():\n",
    "        soup = bs(r.text, 'html.parser')\n",
    "        \n",
    "        text = [x.text for x in soup.find_all('a', {'class' : 'link-wait'})]\n",
    "            \n",
    "        url = [x['href'] for x in soup.find_all('a', {'class' : 'link-wait'})]\n",
    "        url = ['https://apps.cer-rec.gc.ca' + x for x in url]\n",
    "        url = [x.replace('/View', '/LoadResult') for x in url]\n",
    "            \n",
    "        df = pd.DataFrame({string1 + 'text': text, \n",
    "                            string1 + 'url' : url,\n",
    "                            string2 + 'url' : r.request_kwargs['url']})\n",
    "            \n",
    "        dfs_collector.append(df)"
   ]
  },
  {
   "cell_type": "markdown",
   "id": "cd778169",
   "metadata": {},
   "source": [
    "# Group1Tolls - Oil"
   ]
  },
  {
   "cell_type": "markdown",
   "id": "35466b0a",
   "metadata": {},
   "source": [
    "## Results level 1"
   ]
  },
  {
   "cell_type": "code",
   "execution_count": 4,
   "id": "7b8dcb27",
   "metadata": {},
   "outputs": [],
   "source": [
    "OilGroup1Tolls_url = 'https://apps.cer-rec.gc.ca/REGDOCS/Item/LoadResult/92835'"
   ]
  },
  {
   "cell_type": "code",
   "execution_count": 5,
   "id": "3304fe4e",
   "metadata": {},
   "outputs": [],
   "source": [
    "r = requests.get(OilGroup1Tolls_url, cookies = {'RDI-NumberOfRecords' : '200'})\n",
    "\n",
    "soup = bs(r.text, 'html.parser')\n",
    "\n",
    "l1_url = [x['href'] for x in soup.find_all('a', {'class' : 'link-wait no-expand'})]\n",
    "l1_url = ['https://apps.cer-rec.gc.ca' + x for x in l1_url]\n",
    "l1_url = [x.replace('View', 'LoadResult') for x in l1_url]\n",
    "\n",
    "l1_text = [x.text for x in soup.find_all('a', {'class' : 'link-wait no-expand'})]"
   ]
  },
  {
   "cell_type": "code",
   "execution_count": 6,
   "id": "b34fc29c",
   "metadata": {},
   "outputs": [
    {
     "data": {
      "text/html": [
       "<div><div id=e95708ac-5956-49f1-b167-4a98e0d23764 style=\"display:none; background-color:#9D6CFF; color:white; width:200px; height:30px; padding-left:5px; border-radius:4px; flex-direction:row; justify-content:space-around; align-items:center;\" onmouseover=\"this.style.backgroundColor='#BA9BF8'\" onmouseout=\"this.style.backgroundColor='#9D6CFF'\" onclick=\"window.commands?.execute('create-mitosheet-from-dataframe-output');\">See Full Dataframe in Mito</div> <script> if (window.commands?.hasCommand('create-mitosheet-from-dataframe-output')) document.getElementById('e95708ac-5956-49f1-b167-4a98e0d23764').style.display = 'flex' </script> <table border=\"1\" class=\"dataframe\">\n",
       "  <thead>\n",
       "    <tr style=\"text-align: right;\">\n",
       "      <th></th>\n",
       "      <th>l1_text</th>\n",
       "      <th>l1_url</th>\n",
       "    </tr>\n",
       "  </thead>\n",
       "  <tbody>\n",
       "    <tr>\n",
       "      <th>0</th>\n",
       "      <td>Cochin Pipe Lines Ltd.</td>\n",
       "      <td>https://apps.cer-rec.gc.ca/REGDOCS/Item/LoadResult/155665</td>\n",
       "    </tr>\n",
       "    <tr>\n",
       "      <th>1</th>\n",
       "      <td>Enbridge Pipelines (NW) Inc.</td>\n",
       "      <td>https://apps.cer-rec.gc.ca/REGDOCS/Item/LoadResult/305098</td>\n",
       "    </tr>\n",
       "    <tr>\n",
       "      <th>2</th>\n",
       "      <td>Enbridge Pipelines Inc.</td>\n",
       "      <td>https://apps.cer-rec.gc.ca/REGDOCS/Item/LoadResult/155829</td>\n",
       "    </tr>\n",
       "    <tr>\n",
       "      <th>3</th>\n",
       "      <td>Interprovincial Pipe Line Limited</td>\n",
       "      <td>https://apps.cer-rec.gc.ca/REGDOCS/Item/LoadResult/93853</td>\n",
       "    </tr>\n",
       "    <tr>\n",
       "      <th>4</th>\n",
       "      <td>Kinder Morgan Cochin ULC</td>\n",
       "      <td>https://apps.cer-rec.gc.ca/REGDOCS/Item/LoadResult/472901</td>\n",
       "    </tr>\n",
       "    <tr>\n",
       "      <th>...</th>\n",
       "      <td>...</td>\n",
       "      <td>...</td>\n",
       "    </tr>\n",
       "    <tr>\n",
       "      <th>8</th>\n",
       "      <td>Trans Mountain Pipe Line Company Ltd. (Name changed to Trans Mountain Pipeline Inc.)</td>\n",
       "      <td>https://apps.cer-rec.gc.ca/REGDOCS/Item/LoadResult/93854</td>\n",
       "    </tr>\n",
       "    <tr>\n",
       "      <th>9</th>\n",
       "      <td>Trans Mountain Pipeline Inc.</td>\n",
       "      <td>https://apps.cer-rec.gc.ca/REGDOCS/Item/LoadResult/483086</td>\n",
       "    </tr>\n",
       "    <tr>\n",
       "      <th>10</th>\n",
       "      <td>Trans Mountain Pipeline ULC</td>\n",
       "      <td>https://apps.cer-rec.gc.ca/REGDOCS/Item/LoadResult/552980</td>\n",
       "    </tr>\n",
       "    <tr>\n",
       "      <th>11</th>\n",
       "      <td>Trans-Northern Pipelines Inc</td>\n",
       "      <td>https://apps.cer-rec.gc.ca/REGDOCS/Item/LoadResult/93855</td>\n",
       "    </tr>\n",
       "    <tr>\n",
       "      <th>12</th>\n",
       "      <td>TransCanada Keystone Pipeline GP Ltd.</td>\n",
       "      <td>https://apps.cer-rec.gc.ca/REGDOCS/Item/LoadResult/565787</td>\n",
       "    </tr>\n",
       "  </tbody>\n",
       "</table></div>"
      ],
      "text/plain": [
       "                                              l1_text  \\\n",
       "0                              Cochin Pipe Lines Ltd.   \n",
       "1                        Enbridge Pipelines (NW) Inc.   \n",
       "2                             Enbridge Pipelines Inc.   \n",
       "3                   Interprovincial Pipe Line Limited   \n",
       "4                            Kinder Morgan Cochin ULC   \n",
       "5                                        Multi-Client   \n",
       "6                                      PKM Cochin ULC   \n",
       "7   Terasen Pipelines (Trans Mountain) Inc. (Name ...   \n",
       "8   Trans Mountain Pipe Line Company Ltd. (Name ch...   \n",
       "9                        Trans Mountain Pipeline Inc.   \n",
       "10                        Trans Mountain Pipeline ULC   \n",
       "11                       Trans-Northern Pipelines Inc   \n",
       "12              TransCanada Keystone Pipeline GP Ltd.   \n",
       "\n",
       "                                               l1_url  \n",
       "0   https://apps.cer-rec.gc.ca/REGDOCS/Item/LoadRe...  \n",
       "1   https://apps.cer-rec.gc.ca/REGDOCS/Item/LoadRe...  \n",
       "2   https://apps.cer-rec.gc.ca/REGDOCS/Item/LoadRe...  \n",
       "3   https://apps.cer-rec.gc.ca/REGDOCS/Item/LoadRe...  \n",
       "4   https://apps.cer-rec.gc.ca/REGDOCS/Item/LoadRe...  \n",
       "5   https://apps.cer-rec.gc.ca/REGDOCS/Item/LoadRe...  \n",
       "6   https://apps.cer-rec.gc.ca/REGDOCS/Item/LoadRe...  \n",
       "7   https://apps.cer-rec.gc.ca/REGDOCS/Item/LoadRe...  \n",
       "8   https://apps.cer-rec.gc.ca/REGDOCS/Item/LoadRe...  \n",
       "9   https://apps.cer-rec.gc.ca/REGDOCS/Item/LoadRe...  \n",
       "10  https://apps.cer-rec.gc.ca/REGDOCS/Item/LoadRe...  \n",
       "11  https://apps.cer-rec.gc.ca/REGDOCS/Item/LoadRe...  \n",
       "12  https://apps.cer-rec.gc.ca/REGDOCS/Item/LoadRe...  "
      ]
     },
     "execution_count": 6,
     "metadata": {},
     "output_type": "execute_result"
    },
    {
     "data": {
      "text/plain": [
       "(13, 2)"
      ]
     },
     "execution_count": 6,
     "metadata": {},
     "output_type": "execute_result"
    },
    {
     "data": {
      "text/plain": [
       "l1_text    13\n",
       "l1_url     13\n",
       "dtype: int64"
      ]
     },
     "execution_count": 6,
     "metadata": {},
     "output_type": "execute_result"
    }
   ],
   "source": [
    "df_l1 = pd.DataFrame({'l1_text' : l1_text, 'l1_url' : l1_url})\n",
    "# df_1['folder_link'] = df_1['folder_link'].str.replace('View', 'LoadResult')\n",
    "df_l1.head(15)\n",
    "df_l1.shape\n",
    "df_l1.nunique() #all unique\n",
    "df_l1.to_csv('OilGroup1Tolls_df_l1.csv', index = False)"
   ]
  },
  {
   "cell_type": "markdown",
   "id": "9c26ffb2",
   "metadata": {},
   "source": [
    "## Featured level 2\n",
    "\n"
   ]
  },
  {
   "cell_type": "code",
   "execution_count": 7,
   "id": "02af7f41",
   "metadata": {},
   "outputs": [
    {
     "data": {
      "text/plain": [
       "(27, 3)"
      ]
     },
     "execution_count": 7,
     "metadata": {},
     "output_type": "execute_result"
    },
    {
     "data": {
      "text/plain": [
       "f2_text    0\n",
       "f2_url     0\n",
       "f1_url     0\n",
       "dtype: int64"
      ]
     },
     "execution_count": 7,
     "metadata": {},
     "output_type": "execute_result"
    },
    {
     "data": {
      "text/html": [
       "<div><div id=5386d6ad-572d-4d5b-8bda-43a5787d285e style=\"display:none; background-color:#9D6CFF; color:white; width:200px; height:30px; padding-left:5px; border-radius:4px; flex-direction:row; justify-content:space-around; align-items:center;\" onmouseover=\"this.style.backgroundColor='#BA9BF8'\" onmouseout=\"this.style.backgroundColor='#9D6CFF'\" onclick=\"window.commands?.execute('create-mitosheet-from-dataframe-output');\">See Full Dataframe in Mito</div> <script> if (window.commands?.hasCommand('create-mitosheet-from-dataframe-output')) document.getElementById('5386d6ad-572d-4d5b-8bda-43a5787d285e').style.display = 'flex' </script> <table border=\"1\" class=\"dataframe\">\n",
       "  <thead>\n",
       "    <tr style=\"text-align: right;\">\n",
       "      <th></th>\n",
       "      <th>f2_text</th>\n",
       "      <th>f2_url</th>\n",
       "      <th>f1_url</th>\n",
       "    </tr>\n",
       "  </thead>\n",
       "  <tbody>\n",
       "    <tr>\n",
       "      <th>0</th>\n",
       "      <td>Financial Regulatory Audits</td>\n",
       "      <td>https://apps.cer-rec.gc.ca/REGDOCS/Item/LoadResult/571482</td>\n",
       "      <td>https://apps.cer-rec.gc.ca/REGDOCS/Item/LoadFeatured/267614</td>\n",
       "    </tr>\n",
       "    <tr>\n",
       "      <th>1</th>\n",
       "      <td>Tolls and Tariffs - General Terms and Conditions</td>\n",
       "      <td>https://apps.cer-rec.gc.ca/REGDOCS/Item/LoadResult/285616</td>\n",
       "      <td>https://apps.cer-rec.gc.ca/REGDOCS/Item/LoadFeatured/267614</td>\n",
       "    </tr>\n",
       "    <tr>\n",
       "      <th>0</th>\n",
       "      <td>Audited Financial Statements</td>\n",
       "      <td>https://apps.cer-rec.gc.ca/REGDOCS/Item/LoadResult/287374</td>\n",
       "      <td>https://apps.cer-rec.gc.ca/REGDOCS/Item/LoadFeatured/155665</td>\n",
       "    </tr>\n",
       "    <tr>\n",
       "      <th>1</th>\n",
       "      <td>Quarterly Surveillance Reports</td>\n",
       "      <td>https://apps.cer-rec.gc.ca/REGDOCS/Item/LoadResult/164040</td>\n",
       "      <td>https://apps.cer-rec.gc.ca/REGDOCS/Item/LoadFeatured/155665</td>\n",
       "    </tr>\n",
       "    <tr>\n",
       "      <th>2</th>\n",
       "      <td>Tolls and Tariffs - General Terms &amp; Conditions</td>\n",
       "      <td>https://apps.cer-rec.gc.ca/REGDOCS/Item/LoadResult/155577</td>\n",
       "      <td>https://apps.cer-rec.gc.ca/REGDOCS/Item/LoadFeatured/155665</td>\n",
       "    </tr>\n",
       "  </tbody>\n",
       "</table></div>"
      ],
      "text/plain": [
       "                                            f2_text  \\\n",
       "0                       Financial Regulatory Audits   \n",
       "1  Tolls and Tariffs - General Terms and Conditions   \n",
       "0                      Audited Financial Statements   \n",
       "1                    Quarterly Surveillance Reports   \n",
       "2    Tolls and Tariffs - General Terms & Conditions   \n",
       "\n",
       "                                              f2_url  \\\n",
       "0  https://apps.cer-rec.gc.ca/REGDOCS/Item/LoadRe...   \n",
       "1  https://apps.cer-rec.gc.ca/REGDOCS/Item/LoadRe...   \n",
       "0  https://apps.cer-rec.gc.ca/REGDOCS/Item/LoadRe...   \n",
       "1  https://apps.cer-rec.gc.ca/REGDOCS/Item/LoadRe...   \n",
       "2  https://apps.cer-rec.gc.ca/REGDOCS/Item/LoadRe...   \n",
       "\n",
       "                                              f1_url  \n",
       "0  https://apps.cer-rec.gc.ca/REGDOCS/Item/LoadFe...  \n",
       "1  https://apps.cer-rec.gc.ca/REGDOCS/Item/LoadFe...  \n",
       "0  https://apps.cer-rec.gc.ca/REGDOCS/Item/LoadFe...  \n",
       "1  https://apps.cer-rec.gc.ca/REGDOCS/Item/LoadFe...  \n",
       "2  https://apps.cer-rec.gc.ca/REGDOCS/Item/LoadFe...  "
      ]
     },
     "execution_count": 7,
     "metadata": {},
     "output_type": "execute_result"
    },
    {
     "data": {
      "text/plain": [
       "f2_text     8\n",
       "f2_url     27\n",
       "f1_url     10\n",
       "dtype: int64"
      ]
     },
     "execution_count": 7,
     "metadata": {},
     "output_type": "execute_result"
    },
    {
     "data": {
      "text/plain": [
       "<AxesSubplot:title={'center':'top featured information'}>"
      ]
     },
     "execution_count": 7,
     "metadata": {},
     "output_type": "execute_result"
    },
    {
     "data": {
      "image/png": "[encoded data removed]",
      "text/plain": [
       "<Figure size 504x648 with 1 Axes>"
      ]
     },
     "metadata": {
      "needs_background": "light"
     },
     "output_type": "display_data"
    }
   ],
   "source": [
    "df_l1['f1_url'] = df_l1['l1_url'].str.replace('Result', 'Featured')\n",
    "\n",
    "dfs_collector = []\n",
    "get_featured_information(source = df_l1['f1_url'], string1 = 'f2_', string2 = 'f1_')\n",
    "\n",
    "df_f2 = pd.concat(dfs_collector)\n",
    "df_f2.shape\n",
    "df_f2.isnull().sum() #no docs\n",
    "df_f2.head()\n",
    "df_f2.nunique()\n",
    "df_f2 = df_f2.dropna(axis = 1, how = 'all')\n",
    "df_f2.to_csv('OilGroup1Tolls_df_f2.csv', index = False)\n",
    "\n",
    "df_f2['f2_text'].value_counts()[:30].sort_values(ascending = True).plot(kind = 'barh', title = 'top featured information', figsize=(7, 9))"
   ]
  },
  {
   "cell_type": "markdown",
   "id": "2238befc",
   "metadata": {},
   "source": [
    "## Featured level 3"
   ]
  },
  {
   "cell_type": "code",
   "execution_count": 8,
   "id": "b7c450e6",
   "metadata": {
    "scrolled": false
   },
   "outputs": [
    {
     "data": {
      "text/plain": [
       "(573, 3)"
      ]
     },
     "execution_count": 8,
     "metadata": {},
     "output_type": "execute_result"
    },
    {
     "data": {
      "text/plain": [
       "f3_text    0\n",
       "f3_url     0\n",
       "f2_url     0\n",
       "dtype: int64"
      ]
     },
     "execution_count": 8,
     "metadata": {},
     "output_type": "execute_result"
    },
    {
     "data": {
      "text/html": [
       "<div><div id=e9712688-840a-405b-a9a4-8b3ac7d60bd8 style=\"display:none; background-color:#9D6CFF; color:white; width:200px; height:30px; padding-left:5px; border-radius:4px; flex-direction:row; justify-content:space-around; align-items:center;\" onmouseover=\"this.style.backgroundColor='#BA9BF8'\" onmouseout=\"this.style.backgroundColor='#9D6CFF'\" onclick=\"window.commands?.execute('create-mitosheet-from-dataframe-output');\">See Full Dataframe in Mito</div> <script> if (window.commands?.hasCommand('create-mitosheet-from-dataframe-output')) document.getElementById('e9712688-840a-405b-a9a4-8b3ac7d60bd8').style.display = 'flex' </script> <table border=\"1\" class=\"dataframe\">\n",
       "  <thead>\n",
       "    <tr style=\"text-align: right;\">\n",
       "      <th></th>\n",
       "      <th>f3_text</th>\n",
       "      <th>f3_url</th>\n",
       "      <th>f2_url</th>\n",
       "    </tr>\n",
       "  </thead>\n",
       "  <tbody>\n",
       "    <tr>\n",
       "      <th>0</th>\n",
       "      <td>C00840 Enbridge Pipelines Inc. - Response to NEB re. Non-compliance with Order MO-036-2017</td>\n",
       "      <td>https://apps.cer-rec.gc.ca/REGDOCS/Item/LoadResult/3810373</td>\n",
       "      <td>https://apps.cer-rec.gc.ca/REGDOCS/Item/LoadResult/3808226</td>\n",
       "    </tr>\n",
       "    <tr>\n",
       "      <th>1</th>\n",
       "      <td>C04175 Enbridge Pipelines Inc. - Revised Income Summary Statement for 2017 - 2018</td>\n",
       "      <td>https://apps.cer-rec.gc.ca/REGDOCS/Item/LoadResult/3898862</td>\n",
       "      <td>https://apps.cer-rec.gc.ca/REGDOCS/Item/LoadResult/3808226</td>\n",
       "    </tr>\n",
       "    <tr>\n",
       "      <th>0</th>\n",
       "      <td>03-07-29 Cochin Pipe Lines Ltd. - Annual Audited Financial Statments - Financial and Throuput Results Fourth Quarter 2002 (A06617)</td>\n",
       "      <td>https://apps.cer-rec.gc.ca/REGDOCS/Item/LoadResult/287373</td>\n",
       "      <td>https://apps.cer-rec.gc.ca/REGDOCS/Item/LoadResult/287374</td>\n",
       "    </tr>\n",
       "    <tr>\n",
       "      <th>1</th>\n",
       "      <td>04-08-05 Cochin Pipe Lines Ltd - Audited Financial Statements for Year Ended December 31, 2003 (A08200)</td>\n",
       "      <td>https://apps.cer-rec.gc.ca/REGDOCS/Item/LoadResult/333486</td>\n",
       "      <td>https://apps.cer-rec.gc.ca/REGDOCS/Item/LoadResult/287374</td>\n",
       "    </tr>\n",
       "    <tr>\n",
       "      <th>2</th>\n",
       "      <td>05-08-19 Cochin Pipe Line Ltd. - 2004 Audited Statement - Financial and Throughput Results (A10377)</td>\n",
       "      <td>https://apps.cer-rec.gc.ca/REGDOCS/Item/LoadResult/377473</td>\n",
       "      <td>https://apps.cer-rec.gc.ca/REGDOCS/Item/LoadResult/287374</td>\n",
       "    </tr>\n",
       "  </tbody>\n",
       "</table></div>"
      ],
      "text/plain": [
       "                                             f3_text  \\\n",
       "0  C00840 Enbridge Pipelines Inc. - Response to N...   \n",
       "1  C04175 Enbridge Pipelines Inc. - Revised Incom...   \n",
       "0  03-07-29 Cochin Pipe Lines Ltd. - Annual Audit...   \n",
       "1  04-08-05 Cochin Pipe Lines Ltd - Audited Finan...   \n",
       "2  05-08-19 Cochin Pipe Line Ltd. - 2004 Audited ...   \n",
       "\n",
       "                                              f3_url  \\\n",
       "0  https://apps.cer-rec.gc.ca/REGDOCS/Item/LoadRe...   \n",
       "1  https://apps.cer-rec.gc.ca/REGDOCS/Item/LoadRe...   \n",
       "0  https://apps.cer-rec.gc.ca/REGDOCS/Item/LoadRe...   \n",
       "1  https://apps.cer-rec.gc.ca/REGDOCS/Item/LoadRe...   \n",
       "2  https://apps.cer-rec.gc.ca/REGDOCS/Item/LoadRe...   \n",
       "\n",
       "                                              f2_url  \n",
       "0  https://apps.cer-rec.gc.ca/REGDOCS/Item/LoadRe...  \n",
       "1  https://apps.cer-rec.gc.ca/REGDOCS/Item/LoadRe...  \n",
       "0  https://apps.cer-rec.gc.ca/REGDOCS/Item/LoadRe...  \n",
       "1  https://apps.cer-rec.gc.ca/REGDOCS/Item/LoadRe...  \n",
       "2  https://apps.cer-rec.gc.ca/REGDOCS/Item/LoadRe...  "
      ]
     },
     "execution_count": 8,
     "metadata": {},
     "output_type": "execute_result"
    },
    {
     "data": {
      "text/plain": [
       "<AxesSubplot:title={'center':'top level 3'}>"
      ]
     },
     "execution_count": 8,
     "metadata": {},
     "output_type": "execute_result"
    },
    {
     "data": {
      "image/png": "[encoded data removed]",
      "text/plain": [
       "<Figure size 504x648 with 1 Axes>"
      ]
     },
     "metadata": {
      "needs_background": "light"
     },
     "output_type": "display_data"
    }
   ],
   "source": [
    "dfs_collector = []\n",
    "get_documents(source = df_f2['f2_url'], string1 = 'f3_', string2 = 'f2_')\n",
    "\n",
    "df_f3 = pd.concat(dfs_collector) \n",
    "df_f3.shape\n",
    "df_f3.isnull().sum() #no docs\n",
    "df_f3 = df_f3.dropna(axis = 1, how = 'all')\n",
    "df_f3 = df_f3.drop_duplicates()\n",
    "# df_f3.nunique()\n",
    "df_f3.head()\n",
    "df_f3.to_csv('OilGroup1Tolls_df_f3.csv', index = False)\n",
    "df_f3['f3_text'].value_counts()[:30].sort_values(ascending = True).plot(kind = 'barh', title = 'top level 3', figsize=(7, 9))\n"
   ]
  },
  {
   "cell_type": "markdown",
   "id": "e44e15c4",
   "metadata": {},
   "source": [
    "## Featured level 4"
   ]
  },
  {
   "cell_type": "code",
   "execution_count": 9,
   "id": "3fbd459f",
   "metadata": {
    "scrolled": false
   },
   "outputs": [
    {
     "data": {
      "text/plain": [
       "(2054, 7)"
      ]
     },
     "execution_count": 9,
     "metadata": {},
     "output_type": "execute_result"
    },
    {
     "data": {
      "text/plain": [
       "f4_text                   1811\n",
       "f4_url                    1811\n",
       "f3_url                       0\n",
       "document_name              243\n",
       "document_download_link     243\n",
       "document_date              243\n",
       "doc_submitter              243\n",
       "dtype: int64"
      ]
     },
     "execution_count": 9,
     "metadata": {},
     "output_type": "execute_result"
    },
    {
     "data": {
      "text/plain": [
       "f4_text                    214\n",
       "f4_url                     213\n",
       "f3_url                     570\n",
       "document_name             1806\n",
       "document_download_link    1791\n",
       "document_date              408\n",
       "doc_submitter               63\n",
       "dtype: int64"
      ]
     },
     "execution_count": 9,
     "metadata": {},
     "output_type": "execute_result"
    },
    {
     "data": {
      "text/html": [
       "<div><div id=3632e626-d395-44a0-8079-31f4827ec2e5 style=\"display:none; background-color:#9D6CFF; color:white; width:200px; height:30px; padding-left:5px; border-radius:4px; flex-direction:row; justify-content:space-around; align-items:center;\" onmouseover=\"this.style.backgroundColor='#BA9BF8'\" onmouseout=\"this.style.backgroundColor='#9D6CFF'\" onclick=\"window.commands?.execute('create-mitosheet-from-dataframe-output');\">See Full Dataframe in Mito</div> <script> if (window.commands?.hasCommand('create-mitosheet-from-dataframe-output')) document.getElementById('3632e626-d395-44a0-8079-31f4827ec2e5').style.display = 'flex' </script> <table border=\"1\" class=\"dataframe\">\n",
       "  <thead>\n",
       "    <tr style=\"text-align: right;\">\n",
       "      <th></th>\n",
       "      <th>f4_text</th>\n",
       "      <th>f4_url</th>\n",
       "      <th>f3_url</th>\n",
       "      <th>document_name</th>\n",
       "      <th>document_download_link</th>\n",
       "      <th>document_date</th>\n",
       "      <th>doc_submitter</th>\n",
       "    </tr>\n",
       "  </thead>\n",
       "  <tbody>\n",
       "    <tr>\n",
       "      <th>0</th>\n",
       "      <td>NaN</td>\n",
       "      <td>NaN</td>\n",
       "      <td>https://apps.cer-rec.gc.ca/REGDOCS/Item/LoadResult/3898862</td>\n",
       "      <td>C04175-1 Enbridge Pipelines Inc. - Revised Income Summary Statement for 2017 - 2018 - Transmittal Letter - A7C7D8</td>\n",
       "      <td>/REGDOCS/File/Download/3899243</td>\n",
       "      <td>2020-01-17</td>\n",
       "      <td>Enbridge Pipelines Inc.</td>\n",
       "    </tr>\n",
       "  </tbody>\n",
       "</table></div>"
      ],
      "text/plain": [
       "  f4_text f4_url                                             f3_url  \\\n",
       "0     NaN    NaN  https://apps.cer-rec.gc.ca/REGDOCS/Item/LoadRe...   \n",
       "\n",
       "                                       document_name  \\\n",
       "0  C04175-1 Enbridge Pipelines Inc. - Revised Inc...   \n",
       "\n",
       "           document_download_link document_date            doc_submitter  \n",
       "0  /REGDOCS/File/Download/3899243    2020-01-17  Enbridge Pipelines Inc.  "
      ]
     },
     "execution_count": 9,
     "metadata": {},
     "output_type": "execute_result"
    }
   ],
   "source": [
    "dfs_collector = []\n",
    "get_documents(source = df_f3['f3_url'], string1 = 'f4_', string2 = 'f3_')\n",
    "\n",
    "\n",
    "df_f4 = pd.concat(dfs_collector) \n",
    "df_f4.shape\n",
    "df_f4.isnull().sum() #some docs\n",
    "df_f4.nunique()\n",
    "df_f4.head(1)\n",
    "df_f4.to_csv('OilGroup1Tolls_df_f4.csv', index = False)\n",
    "# df_f4['f4_text'].value_counts()[:30].sort_values(ascending = True).plot(kind = 'barh', title = 'top featured information', figsize=(7, 9))"
   ]
  },
  {
   "cell_type": "markdown",
   "id": "cc736759",
   "metadata": {},
   "source": [
    "### Featured level 4 path"
   ]
  },
  {
   "cell_type": "code",
   "execution_count": 10,
   "id": "66f821fc",
   "metadata": {},
   "outputs": [
    {
     "data": {
      "text/plain": [
       "(243, 3)"
      ]
     },
     "execution_count": 10,
     "metadata": {},
     "output_type": "execute_result"
    },
    {
     "data": {
      "text/plain": [
       "(214, 3)"
      ]
     },
     "execution_count": 10,
     "metadata": {},
     "output_type": "execute_result"
    },
    {
     "data": {
      "text/html": [
       "<div><div id=601dcaaf-e9e1-4821-96c3-5cebb7d551f5 style=\"display:none; background-color:#9D6CFF; color:white; width:200px; height:30px; padding-left:5px; border-radius:4px; flex-direction:row; justify-content:space-around; align-items:center;\" onmouseover=\"this.style.backgroundColor='#BA9BF8'\" onmouseout=\"this.style.backgroundColor='#9D6CFF'\" onclick=\"window.commands?.execute('create-mitosheet-from-dataframe-output');\">See Full Dataframe in Mito</div> <script> if (window.commands?.hasCommand('create-mitosheet-from-dataframe-output')) document.getElementById('601dcaaf-e9e1-4821-96c3-5cebb7d551f5').style.display = 'flex' </script> <table border=\"1\" class=\"dataframe\">\n",
       "  <thead>\n",
       "    <tr style=\"text-align: right;\">\n",
       "      <th></th>\n",
       "      <th>f4_text</th>\n",
       "      <th>f4_url</th>\n",
       "      <th>f3_url</th>\n",
       "    </tr>\n",
       "  </thead>\n",
       "  <tbody>\n",
       "    <tr>\n",
       "      <th>0</th>\n",
       "      <td>A01937 - Cochin Pipe Lines Ltd - Tolls &amp; Tariffs - Quarterly Surveillance Report / Financial Statement</td>\n",
       "      <td>https://apps.cer-rec.gc.ca/REGDOCS/Item/LoadResult/162851</td>\n",
       "      <td>https://apps.cer-rec.gc.ca/REGDOCS/Item/LoadResult/164041</td>\n",
       "    </tr>\n",
       "  </tbody>\n",
       "</table></div>"
      ],
      "text/plain": [
       "                                             f4_text  \\\n",
       "0  A01937 - Cochin Pipe Lines Ltd - Tolls & Tarif...   \n",
       "\n",
       "                                              f4_url  \\\n",
       "0  https://apps.cer-rec.gc.ca/REGDOCS/Item/LoadRe...   \n",
       "\n",
       "                                              f3_url  \n",
       "0  https://apps.cer-rec.gc.ca/REGDOCS/Item/LoadRe...  "
      ]
     },
     "execution_count": 10,
     "metadata": {},
     "output_type": "execute_result"
    }
   ],
   "source": [
    "df_f4_path = df_f4\n",
    "\n",
    "df_f4_path = df_f4_path.dropna(subset = ['f4_text'])\n",
    "df_f4_path = df_f4_path.dropna(axis = 1, how = 'all')\n",
    "df_f4_path.shape\n",
    "\n",
    "df_f4_path = df_f4_path.drop_duplicates()\n",
    "df_f4_path.shape\n",
    "df_f4_path.head(1)"
   ]
  },
  {
   "cell_type": "markdown",
   "id": "b93effe6",
   "metadata": {},
   "source": [
    "### Featured level 4 documents"
   ]
  },
  {
   "cell_type": "code",
   "execution_count": 11,
   "id": "b3a69790",
   "metadata": {},
   "outputs": [
    {
     "data": {
      "text/plain": [
       "(1821, 11)"
      ]
     },
     "execution_count": 11,
     "metadata": {},
     "output_type": "execute_result"
    },
    {
     "data": {
      "text/plain": [
       "(1821, 12)"
      ]
     },
     "execution_count": 11,
     "metadata": {},
     "output_type": "execute_result"
    },
    {
     "data": {
      "text/html": [
       "<div><div id=acc28241-edd6-41d6-b6bb-fc656d3756b2 style=\"display:none; background-color:#9D6CFF; color:white; width:200px; height:30px; padding-left:5px; border-radius:4px; flex-direction:row; justify-content:space-around; align-items:center;\" onmouseover=\"this.style.backgroundColor='#BA9BF8'\" onmouseout=\"this.style.backgroundColor='#9D6CFF'\" onclick=\"window.commands?.execute('create-mitosheet-from-dataframe-output');\">See Full Dataframe in Mito</div> <script> if (window.commands?.hasCommand('create-mitosheet-from-dataframe-output')) document.getElementById('acc28241-edd6-41d6-b6bb-fc656d3756b2').style.display = 'flex' </script> <table border=\"1\" class=\"dataframe\">\n",
       "  <thead>\n",
       "    <tr style=\"text-align: right;\">\n",
       "      <th></th>\n",
       "      <th>folder_name_url</th>\n",
       "      <th>document_name</th>\n",
       "      <th>document_download_link</th>\n",
       "      <th>document_date</th>\n",
       "      <th>doc_submitter</th>\n",
       "      <th>folder_name</th>\n",
       "      <th>featured_information_type_url</th>\n",
       "      <th>featured_information_type</th>\n",
       "      <th>f1_url</th>\n",
       "      <th>company_name</th>\n",
       "      <th>company_name_url</th>\n",
       "      <th>commodity</th>\n",
       "    </tr>\n",
       "  </thead>\n",
       "  <tbody>\n",
       "    <tr>\n",
       "      <th>0</th>\n",
       "      <td>https://apps.cer-rec.gc.ca/REGDOCS/Item/LoadResult/3898862</td>\n",
       "      <td>C04175-1 Enbridge Pipelines Inc. - Revised Income Summary Statement for 2017 - 2018 - Transmittal Letter - A7C7D8</td>\n",
       "      <td>/REGDOCS/File/Download/3899243</td>\n",
       "      <td>2020-01-17</td>\n",
       "      <td>Enbridge Pipelines Inc.</td>\n",
       "      <td>C04175 Enbridge Pipelines Inc. - Revised Income Summary Statement for 2017 - 2018</td>\n",
       "      <td>https://apps.cer-rec.gc.ca/REGDOCS/Item/LoadResult/3808226</td>\n",
       "      <td>Audited Financial Statements</td>\n",
       "      <td>https://apps.cer-rec.gc.ca/REGDOCS/Item/LoadFeatured/155829</td>\n",
       "      <td>Enbridge Pipelines Inc.</td>\n",
       "      <td>https://apps.cer-rec.gc.ca/REGDOCS/Item/LoadResult/155829</td>\n",
       "      <td>oil</td>\n",
       "    </tr>\n",
       "  </tbody>\n",
       "</table></div>"
      ],
      "text/plain": [
       "                                     folder_name_url  \\\n",
       "0  https://apps.cer-rec.gc.ca/REGDOCS/Item/LoadRe...   \n",
       "\n",
       "                                       document_name  \\\n",
       "0  C04175-1 Enbridge Pipelines Inc. - Revised Inc...   \n",
       "\n",
       "           document_download_link document_date            doc_submitter  \\\n",
       "0  /REGDOCS/File/Download/3899243    2020-01-17  Enbridge Pipelines Inc.   \n",
       "\n",
       "                                         folder_name  \\\n",
       "0  C04175 Enbridge Pipelines Inc. - Revised Incom...   \n",
       "\n",
       "                       featured_information_type_url  \\\n",
       "0  https://apps.cer-rec.gc.ca/REGDOCS/Item/LoadRe...   \n",
       "\n",
       "      featured_information_type  \\\n",
       "0  Audited Financial Statements   \n",
       "\n",
       "                                              f1_url             company_name  \\\n",
       "0  https://apps.cer-rec.gc.ca/REGDOCS/Item/LoadFe...  Enbridge Pipelines Inc.   \n",
       "\n",
       "                                    company_name_url commodity  \n",
       "0  https://apps.cer-rec.gc.ca/REGDOCS/Item/LoadRe...       oil  "
      ]
     },
     "execution_count": 11,
     "metadata": {},
     "output_type": "execute_result"
    }
   ],
   "source": [
    "df_f4_doc = df_f4\n",
    "df_f4_doc = df_f4_doc.dropna(subset = ['document_name']) \n",
    "df_f4_doc = df_f4_doc.dropna(axis = 1, how = 'all')\n",
    "\n",
    "df_f4_doc = df_f4_doc.merge(df_f3)\n",
    "df_f4_doc = df_f4_doc.merge(df_f2)\n",
    "df_f4_doc = df_f4_doc.merge(df_l1)\n",
    "df_f4_doc.shape\n",
    "\n",
    "df_f4_doc = df_f4_doc.rename(columns={\n",
    "                                  \"l1_text\" : \"company_name\", \"l1_url\" : \"company_name_url\",\n",
    "                                  \"f2_text\": \"featured_information_type\", 'f2_url' : \"featured_information_type_url\",\n",
    "                                  \"f3_text\" : \"folder_name\", \"f3_url\" : \"folder_name_url\"\n",
    "                                  })\n",
    "\n",
    "df_f4_doc['commodity'] = 'oil'\n",
    "df_f4_doc.shape\n",
    "df_f4_doc.head(1)\n",
    "df_f4_doc_oil = df_f4_doc"
   ]
  },
  {
   "cell_type": "markdown",
   "id": "84055455",
   "metadata": {},
   "source": [
    "## Featured level 5"
   ]
  },
  {
   "cell_type": "code",
   "execution_count": 12,
   "id": "28e0cd78",
   "metadata": {
    "scrolled": false
   },
   "outputs": [
    {
     "data": {
      "text/plain": [
       "(583, 7)"
      ]
     },
     "execution_count": 12,
     "metadata": {},
     "output_type": "execute_result"
    },
    {
     "data": {
      "text/plain": [
       "f5_text                   525\n",
       "f5_url                    525\n",
       "f4_url                      0\n",
       "document_name              58\n",
       "document_download_link     58\n",
       "document_date              58\n",
       "doc_submitter              58\n",
       "dtype: int64"
      ]
     },
     "execution_count": 12,
     "metadata": {},
     "output_type": "execute_result"
    },
    {
     "data": {
      "text/plain": [
       "f5_text                    29\n",
       "f5_url                     28\n",
       "f4_url                    213\n",
       "document_name             525\n",
       "document_download_link    509\n",
       "document_date             184\n",
       "doc_submitter              28\n",
       "dtype: int64"
      ]
     },
     "execution_count": 12,
     "metadata": {},
     "output_type": "execute_result"
    },
    {
     "data": {
      "text/html": [
       "<div><div id=441f2fa3-8dbe-44d1-ba11-ad7a3cb33991 style=\"display:none; background-color:#9D6CFF; color:white; width:200px; height:30px; padding-left:5px; border-radius:4px; flex-direction:row; justify-content:space-around; align-items:center;\" onmouseover=\"this.style.backgroundColor='#BA9BF8'\" onmouseout=\"this.style.backgroundColor='#9D6CFF'\" onclick=\"window.commands?.execute('create-mitosheet-from-dataframe-output');\">See Full Dataframe in Mito</div> <script> if (window.commands?.hasCommand('create-mitosheet-from-dataframe-output')) document.getElementById('441f2fa3-8dbe-44d1-ba11-ad7a3cb33991').style.display = 'flex' </script> <table border=\"1\" class=\"dataframe\">\n",
       "  <thead>\n",
       "    <tr style=\"text-align: right;\">\n",
       "      <th></th>\n",
       "      <th>f5_text</th>\n",
       "      <th>f5_url</th>\n",
       "      <th>f4_url</th>\n",
       "      <th>document_name</th>\n",
       "      <th>document_download_link</th>\n",
       "      <th>document_date</th>\n",
       "      <th>doc_submitter</th>\n",
       "    </tr>\n",
       "  </thead>\n",
       "  <tbody>\n",
       "    <tr>\n",
       "      <th>0</th>\n",
       "      <td>NaN</td>\n",
       "      <td>NaN</td>\n",
       "      <td>https://apps.cer-rec.gc.ca/REGDOCS/Item/LoadResult/293365</td>\n",
       "      <td>A0J1I9 - Financial and Throughput Results for Second Quarter</td>\n",
       "      <td>/REGDOCS/File/Download/40940</td>\n",
       "      <td>2003-09-16</td>\n",
       "      <td>Cochin Pipe Lines Ltd.</td>\n",
       "    </tr>\n",
       "  </tbody>\n",
       "</table></div>"
      ],
      "text/plain": [
       "  f5_text f5_url                                             f4_url  \\\n",
       "0     NaN    NaN  https://apps.cer-rec.gc.ca/REGDOCS/Item/LoadRe...   \n",
       "\n",
       "                                       document_name  \\\n",
       "0  A0J1I9 - Financial and Throughput Results for ...   \n",
       "\n",
       "         document_download_link document_date           doc_submitter  \n",
       "0  /REGDOCS/File/Download/40940    2003-09-16  Cochin Pipe Lines Ltd.  "
      ]
     },
     "execution_count": 12,
     "metadata": {},
     "output_type": "execute_result"
    }
   ],
   "source": [
    "dfs_collector = []\n",
    "get_documents(source = df_f4_path['f4_url'], string1 = 'f5_', string2 = 'f4_')\n",
    "\n",
    "\n",
    "df_f5 = pd.concat(dfs_collector) \n",
    "df_f5.shape\n",
    "df_f5.isnull().sum() #some docs\n",
    "df_f5.nunique()\n",
    "df_f5.head(1)\n",
    "df_f5.to_csv('OilGroup1Tolls_df_f5.csv', index = False)\n",
    "# df_f5['f5_text'].value_counts()[:30].sort_values(ascending = True).plot(kind = 'barh', title = 'top featured information', figsize=(7, 9))"
   ]
  },
  {
   "cell_type": "markdown",
   "id": "1c3ec49c",
   "metadata": {},
   "source": [
    "### Featured level 5 path"
   ]
  },
  {
   "cell_type": "code",
   "execution_count": 13,
   "id": "0a13a09b",
   "metadata": {},
   "outputs": [
    {
     "data": {
      "text/plain": [
       "(58, 3)"
      ]
     },
     "execution_count": 13,
     "metadata": {},
     "output_type": "execute_result"
    },
    {
     "data": {
      "text/plain": [
       "(29, 3)"
      ]
     },
     "execution_count": 13,
     "metadata": {},
     "output_type": "execute_result"
    },
    {
     "data": {
      "text/html": [
       "<div><div id=5ca1eeab-30e7-4709-a807-b875c8f68b09 style=\"display:none; background-color:#9D6CFF; color:white; width:200px; height:30px; padding-left:5px; border-radius:4px; flex-direction:row; justify-content:space-around; align-items:center;\" onmouseover=\"this.style.backgroundColor='#BA9BF8'\" onmouseout=\"this.style.backgroundColor='#9D6CFF'\" onclick=\"window.commands?.execute('create-mitosheet-from-dataframe-output');\">See Full Dataframe in Mito</div> <script> if (window.commands?.hasCommand('create-mitosheet-from-dataframe-output')) document.getElementById('5ca1eeab-30e7-4709-a807-b875c8f68b09').style.display = 'flex' </script> <table border=\"1\" class=\"dataframe\">\n",
       "  <thead>\n",
       "    <tr style=\"text-align: right;\">\n",
       "      <th></th>\n",
       "      <th>f5_text</th>\n",
       "      <th>f5_url</th>\n",
       "      <th>f4_url</th>\n",
       "    </tr>\n",
       "  </thead>\n",
       "  <tbody>\n",
       "    <tr>\n",
       "      <th>0</th>\n",
       "      <td>04-12-01 Enbridge Pipelines Inc. - Enbridge Pipelines (NW) Inc. Tariff (A08589) Alias</td>\n",
       "      <td>https://apps.cer-rec.gc.ca/REGDOCS/Item/LoadResult/341364</td>\n",
       "      <td>https://apps.cer-rec.gc.ca/REGDOCS/Item/LoadResult/342167</td>\n",
       "    </tr>\n",
       "  </tbody>\n",
       "</table></div>"
      ],
      "text/plain": [
       "                                             f5_text  \\\n",
       "0  04-12-01 Enbridge Pipelines Inc. - Enbridge Pi...   \n",
       "\n",
       "                                              f5_url  \\\n",
       "0  https://apps.cer-rec.gc.ca/REGDOCS/Item/LoadRe...   \n",
       "\n",
       "                                              f4_url  \n",
       "0  https://apps.cer-rec.gc.ca/REGDOCS/Item/LoadRe...  "
      ]
     },
     "execution_count": 13,
     "metadata": {},
     "output_type": "execute_result"
    }
   ],
   "source": [
    "df_f5_path = df_f5\n",
    "\n",
    "df_f5_path = df_f5_path.dropna(subset = ['f5_text'])\n",
    "df_f5_path = df_f5_path.dropna(axis = 1, how = 'all')\n",
    "df_f5_path.shape\n",
    "\n",
    "df_f5_path = df_f5_path.drop_duplicates()\n",
    "df_f5_path.shape\n",
    "df_f5_path.head(1)"
   ]
  },
  {
   "cell_type": "markdown",
   "id": "fc240424",
   "metadata": {},
   "source": [
    "### Featured level 5 documents"
   ]
  },
  {
   "cell_type": "code",
   "execution_count": 14,
   "id": "988dbfb2",
   "metadata": {
    "scrolled": true
   },
   "outputs": [
    {
     "data": {
      "text/plain": [
       "(525, 5)"
      ]
     },
     "execution_count": 14,
     "metadata": {},
     "output_type": "execute_result"
    },
    {
     "data": {
      "text/plain": [
       "(623, 13)"
      ]
     },
     "execution_count": 14,
     "metadata": {},
     "output_type": "execute_result"
    },
    {
     "data": {
      "text/plain": [
       "(623, 14)"
      ]
     },
     "execution_count": 14,
     "metadata": {},
     "output_type": "execute_result"
    },
    {
     "data": {
      "text/html": [
       "<div><div id=a0531bb5-b70b-444d-9a24-5927f76a53b6 style=\"display:none; background-color:#9D6CFF; color:white; width:200px; height:30px; padding-left:5px; border-radius:4px; flex-direction:row; justify-content:space-around; align-items:center;\" onmouseover=\"this.style.backgroundColor='#BA9BF8'\" onmouseout=\"this.style.backgroundColor='#9D6CFF'\" onclick=\"window.commands?.execute('create-mitosheet-from-dataframe-output');\">See Full Dataframe in Mito</div> <script> if (window.commands?.hasCommand('create-mitosheet-from-dataframe-output')) document.getElementById('a0531bb5-b70b-444d-9a24-5927f76a53b6').style.display = 'flex' </script> <table border=\"1\" class=\"dataframe\">\n",
       "  <thead>\n",
       "    <tr style=\"text-align: right;\">\n",
       "      <th></th>\n",
       "      <th>folder_name_url</th>\n",
       "      <th>document_name</th>\n",
       "      <th>document_download_link</th>\n",
       "      <th>document_date</th>\n",
       "      <th>doc_submitter</th>\n",
       "      <th>folder_name</th>\n",
       "      <th>year_url</th>\n",
       "      <th>year</th>\n",
       "      <th>featured_information_type_url</th>\n",
       "      <th>featured_information_type</th>\n",
       "      <th>f1_url</th>\n",
       "      <th>company_name</th>\n",
       "      <th>company_name_url</th>\n",
       "      <th>commodity</th>\n",
       "    </tr>\n",
       "  </thead>\n",
       "  <tbody>\n",
       "    <tr>\n",
       "      <th>0</th>\n",
       "      <td>https://apps.cer-rec.gc.ca/REGDOCS/Item/LoadResult/293365</td>\n",
       "      <td>A0J1I9 - Financial and Throughput Results for Second Quarter</td>\n",
       "      <td>/REGDOCS/File/Download/40940</td>\n",
       "      <td>2003-09-16</td>\n",
       "      <td>Cochin Pipe Lines Ltd.</td>\n",
       "      <td>03-09-12 Cochin Pipe Lines Ltd. - Financial and Throughput Results for Second Quarter (A06837)</td>\n",
       "      <td>https://apps.cer-rec.gc.ca/REGDOCS/Item/LoadResult/281826</td>\n",
       "      <td>Reports for 2003</td>\n",
       "      <td>https://apps.cer-rec.gc.ca/REGDOCS/Item/LoadResult/164040</td>\n",
       "      <td>Quarterly Surveillance Reports</td>\n",
       "      <td>https://apps.cer-rec.gc.ca/REGDOCS/Item/LoadFeatured/155665</td>\n",
       "      <td>Cochin Pipe Lines Ltd.</td>\n",
       "      <td>https://apps.cer-rec.gc.ca/REGDOCS/Item/LoadResult/155665</td>\n",
       "      <td>oil</td>\n",
       "    </tr>\n",
       "  </tbody>\n",
       "</table></div>"
      ],
      "text/plain": [
       "                                     folder_name_url  \\\n",
       "0  https://apps.cer-rec.gc.ca/REGDOCS/Item/LoadRe...   \n",
       "\n",
       "                                       document_name  \\\n",
       "0  A0J1I9 - Financial and Throughput Results for ...   \n",
       "\n",
       "         document_download_link document_date           doc_submitter  \\\n",
       "0  /REGDOCS/File/Download/40940    2003-09-16  Cochin Pipe Lines Ltd.   \n",
       "\n",
       "                                         folder_name  \\\n",
       "0  03-09-12 Cochin Pipe Lines Ltd. - Financial an...   \n",
       "\n",
       "                                            year_url              year  \\\n",
       "0  https://apps.cer-rec.gc.ca/REGDOCS/Item/LoadRe...  Reports for 2003   \n",
       "\n",
       "                       featured_information_type_url  \\\n",
       "0  https://apps.cer-rec.gc.ca/REGDOCS/Item/LoadRe...   \n",
       "\n",
       "        featured_information_type  \\\n",
       "0  Quarterly Surveillance Reports   \n",
       "\n",
       "                                              f1_url            company_name  \\\n",
       "0  https://apps.cer-rec.gc.ca/REGDOCS/Item/LoadFe...  Cochin Pipe Lines Ltd.   \n",
       "\n",
       "                                    company_name_url commodity  \n",
       "0  https://apps.cer-rec.gc.ca/REGDOCS/Item/LoadRe...       oil  "
      ]
     },
     "execution_count": 14,
     "metadata": {},
     "output_type": "execute_result"
    }
   ],
   "source": [
    "df_f5_doc = df_f5\n",
    "df_f5_doc = df_f5_doc.dropna(subset = ['document_name']) \n",
    "df_f5_doc = df_f5_doc.dropna(axis = 1, how = 'all')\n",
    "df_f5_doc = df_f5_doc.drop_duplicates()\n",
    "df_f5_doc.shape\n",
    "\n",
    "df_f5_doc = df_f5_doc.merge(df_f4_path)\n",
    "df_f5_doc = df_f5_doc.merge(df_f3)\n",
    "df_f5_doc = df_f5_doc.merge(df_f2)\n",
    "df_f5_doc = df_f5_doc.merge(df_l1)\n",
    "df_f5_doc.shape\n",
    "\n",
    "df_f5_doc = df_f5_doc.drop_duplicates()\n",
    "df_f5_doc = df_f5_doc.rename(columns={\n",
    "                                  \"l1_text\" : \"company_name\", \"l1_url\" : \"company_name_url\",\n",
    "                                  \"f2_text\": \"featured_information_type\", 'f2_url' : \"featured_information_type_url\",\n",
    "                                  \"f3_text\" : \"year\", \"f3_url\" : \"year_url\",\n",
    "                                  \"f4_text\" : \"folder_name\", \"f4_url\" : \"folder_name_url\",\n",
    "                                  })\n",
    "\n",
    "df_f5_doc['commodity'] = 'oil'\n",
    "df_f5_doc.shape\n",
    "df_f5_doc.head(1)\n",
    "df_f5_doc_oil = df_f5_doc"
   ]
  },
  {
   "cell_type": "markdown",
   "id": "cad1c5e9",
   "metadata": {},
   "source": [
    "## Featured level 6"
   ]
  },
  {
   "cell_type": "code",
   "execution_count": 15,
   "id": "90bc520e",
   "metadata": {
    "scrolled": true
   },
   "outputs": [
    {
     "data": {
      "text/plain": [
       "(156, 7)"
      ]
     },
     "execution_count": 15,
     "metadata": {},
     "output_type": "execute_result"
    },
    {
     "data": {
      "text/plain": [
       "f6_text                   98\n",
       "f6_url                    98\n",
       "f5_url                     0\n",
       "document_name             58\n",
       "document_download_link    58\n",
       "document_date             58\n",
       "doc_submitter             58\n",
       "dtype: int64"
      ]
     },
     "execution_count": 15,
     "metadata": {},
     "output_type": "execute_result"
    },
    {
     "data": {
      "text/html": [
       "<div><div id=6acf97f5-e34b-4b9c-b10b-df99a30d0ce8 style=\"display:none; background-color:#9D6CFF; color:white; width:200px; height:30px; padding-left:5px; border-radius:4px; flex-direction:row; justify-content:space-around; align-items:center;\" onmouseover=\"this.style.backgroundColor='#BA9BF8'\" onmouseout=\"this.style.backgroundColor='#9D6CFF'\" onclick=\"window.commands?.execute('create-mitosheet-from-dataframe-output');\">See Full Dataframe in Mito</div> <script> if (window.commands?.hasCommand('create-mitosheet-from-dataframe-output')) document.getElementById('6acf97f5-e34b-4b9c-b10b-df99a30d0ce8').style.display = 'flex' </script> <table border=\"1\" class=\"dataframe\">\n",
       "  <thead>\n",
       "    <tr style=\"text-align: right;\">\n",
       "      <th></th>\n",
       "      <th>f6_text</th>\n",
       "      <th>f6_url</th>\n",
       "      <th>f5_url</th>\n",
       "      <th>document_name</th>\n",
       "      <th>document_download_link</th>\n",
       "      <th>document_date</th>\n",
       "      <th>doc_submitter</th>\n",
       "    </tr>\n",
       "  </thead>\n",
       "  <tbody>\n",
       "    <tr>\n",
       "      <th>0</th>\n",
       "      <td>NaN</td>\n",
       "      <td>NaN</td>\n",
       "      <td>https://apps.cer-rec.gc.ca/REGDOCS/Item/LoadResult/387411</td>\n",
       "      <td>A0S3Y1 - Enbridge Pipelines NW 2006 Estimate of Full Cost of Service and Tariff NEB No. 34 Letter</td>\n",
       "      <td>/REGDOCS/File/Download/387029</td>\n",
       "      <td>2005-12-13</td>\n",
       "      <td>Enbridge Pipelines (NW) Inc.</td>\n",
       "    </tr>\n",
       "  </tbody>\n",
       "</table></div>"
      ],
      "text/plain": [
       "  f6_text f6_url                                             f5_url  \\\n",
       "0     NaN    NaN  https://apps.cer-rec.gc.ca/REGDOCS/Item/LoadRe...   \n",
       "\n",
       "                                       document_name  \\\n",
       "0  A0S3Y1 - Enbridge Pipelines NW 2006 Estimate o...   \n",
       "\n",
       "          document_download_link document_date                 doc_submitter  \n",
       "0  /REGDOCS/File/Download/387029    2005-12-13  Enbridge Pipelines (NW) Inc.  "
      ]
     },
     "execution_count": 15,
     "metadata": {},
     "output_type": "execute_result"
    }
   ],
   "source": [
    "# not pursuing this folder level. Not included in Group1Tolls_all.csv last merge.\n",
    "# Applies only to Enbridge Pipelines (NW) Inc. Loop error in REGDOCS. \n",
    "\n",
    "dfs_collector = []\n",
    "get_documents(source = df_f5_path['f5_url'], string1 = 'f6_', string2 = 'f5_')\n",
    "\n",
    "\n",
    "df_f6 = pd.concat(dfs_collector) \n",
    "df_f6.shape\n",
    "df_f6.isnull().sum() #some docs\n",
    "# df_f6.nunique()\n",
    "df_f6.head(1)\n",
    "df_f6.to_csv('OilGroup1Tolls_df_f6.csv', index = False)\n",
    "# df_f5['f5_text'].value_counts()[:30].sort_values(ascending = True).plot(kind = 'barh', title = 'top featured information', figsize=(7, 9))"
   ]
  },
  {
   "cell_type": "markdown",
   "id": "d4a19ede",
   "metadata": {},
   "source": [
    "# Group1Tolls - Gas"
   ]
  },
  {
   "cell_type": "markdown",
   "id": "3366bb62",
   "metadata": {},
   "source": [
    "## Results level 1"
   ]
  },
  {
   "cell_type": "code",
   "execution_count": 16,
   "id": "89ef31f4",
   "metadata": {},
   "outputs": [],
   "source": [
    "GasGroup1Tolls_url = 'https://apps.cer-rec.gc.ca/REGDOCS/Item/LoadResult/92833'"
   ]
  },
  {
   "cell_type": "code",
   "execution_count": 17,
   "id": "a91ea282",
   "metadata": {},
   "outputs": [],
   "source": [
    "r = requests.get(GasGroup1Tolls_url, cookies = {'RDI-NumberOfRecords' : '200'})\n",
    "\n",
    "soup = bs(r.text, 'html.parser')\n",
    "\n",
    "l1_url = [x['href'] for x in soup.find_all('a', {'class' : 'link-wait no-expand'})]\n",
    "l1_url = ['https://apps.cer-rec.gc.ca' + x for x in l1_url]\n",
    "l1_url = [x.replace('View', 'LoadResult') for x in l1_url]\n",
    "\n",
    "l1_text = [x.text for x in soup.find_all('a', {'class' : 'link-wait no-expand'})]"
   ]
  },
  {
   "cell_type": "code",
   "execution_count": 18,
   "id": "85fab41d",
   "metadata": {
    "scrolled": false
   },
   "outputs": [
    {
     "data": {
      "text/html": [
       "<div><div id=d3184762-5f47-4280-b859-9aaef355d2a1 style=\"display:none; background-color:#9D6CFF; color:white; width:200px; height:30px; padding-left:5px; border-radius:4px; flex-direction:row; justify-content:space-around; align-items:center;\" onmouseover=\"this.style.backgroundColor='#BA9BF8'\" onmouseout=\"this.style.backgroundColor='#9D6CFF'\" onclick=\"window.commands?.execute('create-mitosheet-from-dataframe-output');\">See Full Dataframe in Mito</div> <script> if (window.commands?.hasCommand('create-mitosheet-from-dataframe-output')) document.getElementById('d3184762-5f47-4280-b859-9aaef355d2a1').style.display = 'flex' </script> <table border=\"1\" class=\"dataframe\">\n",
       "  <thead>\n",
       "    <tr style=\"text-align: right;\">\n",
       "      <th></th>\n",
       "      <th>l1_text</th>\n",
       "      <th>l1_url</th>\n",
       "    </tr>\n",
       "  </thead>\n",
       "  <tbody>\n",
       "    <tr>\n",
       "      <th>0</th>\n",
       "      <td>Alberta Natural Gas Company Ltd</td>\n",
       "      <td>https://apps.cer-rec.gc.ca/REGDOCS/Item/LoadResult/92838</td>\n",
       "    </tr>\n",
       "    <tr>\n",
       "      <th>1</th>\n",
       "      <td>Alliance Pipeline Ltd.</td>\n",
       "      <td>https://apps.cer-rec.gc.ca/REGDOCS/Item/LoadResult/285030</td>\n",
       "    </tr>\n",
       "    <tr>\n",
       "      <th>2</th>\n",
       "      <td>Cartier Pipeline and Company Limited Partnership</td>\n",
       "      <td>https://apps.cer-rec.gc.ca/REGDOCS/Item/LoadResult/129424</td>\n",
       "    </tr>\n",
       "    <tr>\n",
       "      <th>3</th>\n",
       "      <td>Foothills Pipe Lines (Yukon) Ltd</td>\n",
       "      <td>https://apps.cer-rec.gc.ca/REGDOCS/Item/LoadResult/92839</td>\n",
       "    </tr>\n",
       "    <tr>\n",
       "      <th>4</th>\n",
       "      <td>Foothills Pipe Lines Ltd</td>\n",
       "      <td>https://apps.cer-rec.gc.ca/REGDOCS/Item/LoadResult/92840</td>\n",
       "    </tr>\n",
       "    <tr>\n",
       "      <th>...</th>\n",
       "      <td>...</td>\n",
       "      <td>...</td>\n",
       "    </tr>\n",
       "    <tr>\n",
       "      <th>8</th>\n",
       "      <td>Multi-Client</td>\n",
       "      <td>https://apps.cer-rec.gc.ca/REGDOCS/Item/LoadResult/553405</td>\n",
       "    </tr>\n",
       "    <tr>\n",
       "      <th>9</th>\n",
       "      <td>NOVA Gas Transmission Ltd.</td>\n",
       "      <td>https://apps.cer-rec.gc.ca/REGDOCS/Item/LoadResult/554137</td>\n",
       "    </tr>\n",
       "    <tr>\n",
       "      <th>10</th>\n",
       "      <td>TransCanada PipeLines Limited</td>\n",
       "      <td>https://apps.cer-rec.gc.ca/REGDOCS/Item/LoadResult/92843</td>\n",
       "    </tr>\n",
       "    <tr>\n",
       "      <th>11</th>\n",
       "      <td>TransCanada PipeLines Limited B.C. System</td>\n",
       "      <td>https://apps.cer-rec.gc.ca/REGDOCS/Item/LoadResult/155421</td>\n",
       "    </tr>\n",
       "    <tr>\n",
       "      <th>12</th>\n",
       "      <td>Westcoast Energy Inc.</td>\n",
       "      <td>https://apps.cer-rec.gc.ca/REGDOCS/Item/LoadResult/92844</td>\n",
       "    </tr>\n",
       "  </tbody>\n",
       "</table></div>"
      ],
      "text/plain": [
       "                                             l1_text  \\\n",
       "0                    Alberta Natural Gas Company Ltd   \n",
       "1                             Alliance Pipeline Ltd.   \n",
       "2   Cartier Pipeline and Company Limited Partnership   \n",
       "3                   Foothills Pipe Lines (Yukon) Ltd   \n",
       "4                           Foothills Pipe Lines Ltd   \n",
       "5               Gazoduc Trans Quebec & Maritimes Inc   \n",
       "6                     Manitoba Oil & Gas Corporation   \n",
       "7                Maritimes & Northeast Pipelines Ltd   \n",
       "8                                       Multi-Client   \n",
       "9                         NOVA Gas Transmission Ltd.   \n",
       "10                     TransCanada PipeLines Limited   \n",
       "11         TransCanada PipeLines Limited B.C. System   \n",
       "12                             Westcoast Energy Inc.   \n",
       "\n",
       "                                               l1_url  \n",
       "0   https://apps.cer-rec.gc.ca/REGDOCS/Item/LoadRe...  \n",
       "1   https://apps.cer-rec.gc.ca/REGDOCS/Item/LoadRe...  \n",
       "2   https://apps.cer-rec.gc.ca/REGDOCS/Item/LoadRe...  \n",
       "3   https://apps.cer-rec.gc.ca/REGDOCS/Item/LoadRe...  \n",
       "4   https://apps.cer-rec.gc.ca/REGDOCS/Item/LoadRe...  \n",
       "5   https://apps.cer-rec.gc.ca/REGDOCS/Item/LoadRe...  \n",
       "6   https://apps.cer-rec.gc.ca/REGDOCS/Item/LoadRe...  \n",
       "7   https://apps.cer-rec.gc.ca/REGDOCS/Item/LoadRe...  \n",
       "8   https://apps.cer-rec.gc.ca/REGDOCS/Item/LoadRe...  \n",
       "9   https://apps.cer-rec.gc.ca/REGDOCS/Item/LoadRe...  \n",
       "10  https://apps.cer-rec.gc.ca/REGDOCS/Item/LoadRe...  \n",
       "11  https://apps.cer-rec.gc.ca/REGDOCS/Item/LoadRe...  \n",
       "12  https://apps.cer-rec.gc.ca/REGDOCS/Item/LoadRe...  "
      ]
     },
     "execution_count": 18,
     "metadata": {},
     "output_type": "execute_result"
    },
    {
     "data": {
      "text/plain": [
       "(13, 2)"
      ]
     },
     "execution_count": 18,
     "metadata": {},
     "output_type": "execute_result"
    },
    {
     "data": {
      "text/plain": [
       "l1_text    13\n",
       "l1_url     13\n",
       "dtype: int64"
      ]
     },
     "execution_count": 18,
     "metadata": {},
     "output_type": "execute_result"
    }
   ],
   "source": [
    "df_l1 = pd.DataFrame({'l1_text' : l1_text, 'l1_url' : l1_url})\n",
    "# df_1['folder_link'] = df_1['folder_link'].str.replace('View', 'LoadResult')\n",
    "df_l1.head(15)\n",
    "df_l1.shape\n",
    "df_l1.nunique() #all unique\n",
    "df_l1.to_csv('Group1Tolls_df_l1.csv', index = False)"
   ]
  },
  {
   "cell_type": "code",
   "execution_count": 19,
   "id": "4617cebc",
   "metadata": {},
   "outputs": [
    {
     "data": {
      "text/plain": [
       "(583, 7)"
      ]
     },
     "execution_count": 19,
     "metadata": {},
     "output_type": "execute_result"
    },
    {
     "data": {
      "text/plain": [
       "f5_text                   525\n",
       "f5_url                    525\n",
       "f4_url                      0\n",
       "document_name              58\n",
       "document_download_link     58\n",
       "document_date              58\n",
       "doc_submitter              58\n",
       "dtype: int64"
      ]
     },
     "execution_count": 19,
     "metadata": {},
     "output_type": "execute_result"
    },
    {
     "data": {
      "text/html": [
       "<div><div id=877279c0-6f28-48a3-bdb6-464a3197105f style=\"display:none; background-color:#9D6CFF; color:white; width:200px; height:30px; padding-left:5px; border-radius:4px; flex-direction:row; justify-content:space-around; align-items:center;\" onmouseover=\"this.style.backgroundColor='#BA9BF8'\" onmouseout=\"this.style.backgroundColor='#9D6CFF'\" onclick=\"window.commands?.execute('create-mitosheet-from-dataframe-output');\">See Full Dataframe in Mito</div> <script> if (window.commands?.hasCommand('create-mitosheet-from-dataframe-output')) document.getElementById('877279c0-6f28-48a3-bdb6-464a3197105f').style.display = 'flex' </script> <table border=\"1\" class=\"dataframe\">\n",
       "  <thead>\n",
       "    <tr style=\"text-align: right;\">\n",
       "      <th></th>\n",
       "      <th>f5_text</th>\n",
       "      <th>f5_url</th>\n",
       "      <th>f4_url</th>\n",
       "      <th>document_name</th>\n",
       "      <th>document_download_link</th>\n",
       "      <th>document_date</th>\n",
       "      <th>doc_submitter</th>\n",
       "    </tr>\n",
       "  </thead>\n",
       "  <tbody>\n",
       "    <tr>\n",
       "      <th>0</th>\n",
       "      <td>NaN</td>\n",
       "      <td>NaN</td>\n",
       "      <td>https://apps.cer-rec.gc.ca/REGDOCS/Item/LoadResult/283193</td>\n",
       "      <td>A0I4S8 - Financial and Throughput Results for First Quarter</td>\n",
       "      <td>/REGDOCS/File/Download/40940</td>\n",
       "      <td>2003-06-06</td>\n",
       "      <td>Cochin Pipe Lines Ltd.</td>\n",
       "    </tr>\n",
       "    <tr>\n",
       "      <th>1</th>\n",
       "      <td>NaN</td>\n",
       "      <td>NaN</td>\n",
       "      <td>https://apps.cer-rec.gc.ca/REGDOCS/Item/LoadResult/283193</td>\n",
       "      <td>A0I4S9 - Receipt</td>\n",
       "      <td>/REGDOCS/File/Download/283400</td>\n",
       "      <td>2003-06-06</td>\n",
       "      <td>Cochin Pipe Lines Ltd.</td>\n",
       "    </tr>\n",
       "    <tr>\n",
       "      <th>0</th>\n",
       "      <td>NaN</td>\n",
       "      <td>NaN</td>\n",
       "      <td>https://apps.cer-rec.gc.ca/REGDOCS/Item/LoadResult/270877</td>\n",
       "      <td>A0I0D3 - Surveillance report</td>\n",
       "      <td>/REGDOCS/File/Download/40940</td>\n",
       "      <td>2003-03-28</td>\n",
       "      <td>Cochin Pipe Lines Ltd.</td>\n",
       "    </tr>\n",
       "    <tr>\n",
       "      <th>1</th>\n",
       "      <td>NaN</td>\n",
       "      <td>NaN</td>\n",
       "      <td>https://apps.cer-rec.gc.ca/REGDOCS/Item/LoadResult/270877</td>\n",
       "      <td>A0I0D4 - Receipt</td>\n",
       "      <td>/REGDOCS/File/Download/271130</td>\n",
       "      <td>2003-03-28</td>\n",
       "      <td>Cochin Pipe Lines Ltd.</td>\n",
       "    </tr>\n",
       "    <tr>\n",
       "      <th>0</th>\n",
       "      <td>NaN</td>\n",
       "      <td>NaN</td>\n",
       "      <td>https://apps.cer-rec.gc.ca/REGDOCS/Item/LoadResult/162851</td>\n",
       "      <td>Letter (A0D3V6)</td>\n",
       "      <td>/REGDOCS/File/Download/162852</td>\n",
       "      <td>2002-03-22</td>\n",
       "      <td>Cochin Pipe Lines Ltd</td>\n",
       "    </tr>\n",
       "    <tr>\n",
       "      <th>1</th>\n",
       "      <td>NaN</td>\n",
       "      <td>NaN</td>\n",
       "      <td>https://apps.cer-rec.gc.ca/REGDOCS/Item/LoadResult/162851</td>\n",
       "      <td>Receipt (A0D3V7)</td>\n",
       "      <td>/REGDOCS/File/Download/162855</td>\n",
       "      <td>2002-03-22</td>\n",
       "      <td>Cochin Pipe Lines Ltd</td>\n",
       "    </tr>\n",
       "    <tr>\n",
       "      <th>0</th>\n",
       "      <td>NaN</td>\n",
       "      <td>NaN</td>\n",
       "      <td>https://apps.cer-rec.gc.ca/REGDOCS/Item/LoadResult/162639</td>\n",
       "      <td>Letter (A0D3U8)</td>\n",
       "      <td>/REGDOCS/File/Download/162765</td>\n",
       "      <td>2002-03-22</td>\n",
       "      <td>Cochin Pipe Lines Ltd.</td>\n",
       "    </tr>\n",
       "    <tr>\n",
       "      <th>1</th>\n",
       "      <td>NaN</td>\n",
       "      <td>NaN</td>\n",
       "      <td>https://apps.cer-rec.gc.ca/REGDOCS/Item/LoadResult/162639</td>\n",
       "      <td>Receipt (A0D3U9)</td>\n",
       "      <td>/REGDOCS/File/Download/162640</td>\n",
       "      <td>2002-03-22</td>\n",
       "      <td>Cochin Pipe Lines Ltd.</td>\n",
       "    </tr>\n",
       "    <tr>\n",
       "      <th>0</th>\n",
       "      <td>NaN</td>\n",
       "      <td>NaN</td>\n",
       "      <td>https://apps.cer-rec.gc.ca/REGDOCS/Item/LoadResult/293365</td>\n",
       "      <td>A0J1I9 - Financial and Throughput Results for Second Quarter</td>\n",
       "      <td>/REGDOCS/File/Download/40940</td>\n",
       "      <td>2003-09-16</td>\n",
       "      <td>Cochin Pipe Lines Ltd.</td>\n",
       "    </tr>\n",
       "    <tr>\n",
       "      <th>1</th>\n",
       "      <td>NaN</td>\n",
       "      <td>NaN</td>\n",
       "      <td>https://apps.cer-rec.gc.ca/REGDOCS/Item/LoadResult/293365</td>\n",
       "      <td>A0J1J0 - Receipt</td>\n",
       "      <td>/REGDOCS/File/Download/293272</td>\n",
       "      <td>2003-09-16</td>\n",
       "      <td>Cochin Pipe Lines Ltd.</td>\n",
       "    </tr>\n",
       "  </tbody>\n",
       "</table></div>"
      ],
      "text/plain": [
       "  f5_text f5_url                                             f4_url  \\\n",
       "0     NaN    NaN  https://apps.cer-rec.gc.ca/REGDOCS/Item/LoadRe...   \n",
       "1     NaN    NaN  https://apps.cer-rec.gc.ca/REGDOCS/Item/LoadRe...   \n",
       "0     NaN    NaN  https://apps.cer-rec.gc.ca/REGDOCS/Item/LoadRe...   \n",
       "1     NaN    NaN  https://apps.cer-rec.gc.ca/REGDOCS/Item/LoadRe...   \n",
       "0     NaN    NaN  https://apps.cer-rec.gc.ca/REGDOCS/Item/LoadRe...   \n",
       "1     NaN    NaN  https://apps.cer-rec.gc.ca/REGDOCS/Item/LoadRe...   \n",
       "0     NaN    NaN  https://apps.cer-rec.gc.ca/REGDOCS/Item/LoadRe...   \n",
       "1     NaN    NaN  https://apps.cer-rec.gc.ca/REGDOCS/Item/LoadRe...   \n",
       "0     NaN    NaN  https://apps.cer-rec.gc.ca/REGDOCS/Item/LoadRe...   \n",
       "1     NaN    NaN  https://apps.cer-rec.gc.ca/REGDOCS/Item/LoadRe...   \n",
       "\n",
       "                                       document_name  \\\n",
       "0  A0I4S8 - Financial and Throughput Results for ...   \n",
       "1                                   A0I4S9 - Receipt   \n",
       "0                       A0I0D3 - Surveillance report   \n",
       "1                                   A0I0D4 - Receipt   \n",
       "0                                    Letter (A0D3V6)   \n",
       "1                                   Receipt (A0D3V7)   \n",
       "0                                    Letter (A0D3U8)   \n",
       "1                                   Receipt (A0D3U9)   \n",
       "0  A0J1I9 - Financial and Throughput Results for ...   \n",
       "1                                   A0J1J0 - Receipt   \n",
       "\n",
       "          document_download_link document_date           doc_submitter  \n",
       "0   /REGDOCS/File/Download/40940    2003-06-06  Cochin Pipe Lines Ltd.  \n",
       "1  /REGDOCS/File/Download/283400    2003-06-06  Cochin Pipe Lines Ltd.  \n",
       "0   /REGDOCS/File/Download/40940    2003-03-28  Cochin Pipe Lines Ltd.  \n",
       "1  /REGDOCS/File/Download/271130    2003-03-28  Cochin Pipe Lines Ltd.  \n",
       "0  /REGDOCS/File/Download/162852    2002-03-22   Cochin Pipe Lines Ltd  \n",
       "1  /REGDOCS/File/Download/162855    2002-03-22   Cochin Pipe Lines Ltd  \n",
       "0  /REGDOCS/File/Download/162765    2002-03-22  Cochin Pipe Lines Ltd.  \n",
       "1  /REGDOCS/File/Download/162640    2002-03-22  Cochin Pipe Lines Ltd.  \n",
       "0   /REGDOCS/File/Download/40940    2003-09-16  Cochin Pipe Lines Ltd.  \n",
       "1  /REGDOCS/File/Download/293272    2003-09-16  Cochin Pipe Lines Ltd.  "
      ]
     },
     "execution_count": 19,
     "metadata": {},
     "output_type": "execute_result"
    }
   ],
   "source": [
    "# %%time\n",
    "# CPU times: user 25.2 s, sys: 1.19 s, total: 26.4 s\n",
    "# Wall time: 1min 54s\n",
    "dfs_collector = []\n",
    "get_documents(source = df_f4_path['f4_url'], string1 = 'f5_', string2 = 'f4_')\n",
    "\n",
    "df_f5 = pd.concat(dfs_collector) \n",
    "df_f5.shape\n",
    "df_f5.isnull().sum()  \n",
    "df_f5.head(10)\n",
    "df_f5.to_csv('Group1Tolls_df_f5.csv', index = False)"
   ]
  },
  {
   "cell_type": "markdown",
   "id": "398caa3d",
   "metadata": {},
   "source": [
    "## Featured level 2"
   ]
  },
  {
   "cell_type": "code",
   "execution_count": 20,
   "id": "1791a184",
   "metadata": {
    "scrolled": false
   },
   "outputs": [
    {
     "data": {
      "text/plain": [
       "(34, 3)"
      ]
     },
     "execution_count": 20,
     "metadata": {},
     "output_type": "execute_result"
    },
    {
     "data": {
      "text/plain": [
       "f2_text    0\n",
       "f2_url     0\n",
       "f1_url     0\n",
       "dtype: int64"
      ]
     },
     "execution_count": 20,
     "metadata": {},
     "output_type": "execute_result"
    },
    {
     "data": {
      "text/html": [
       "<div><div id=d4d8cc53-6710-417b-8028-41ad41086b55 style=\"display:none; background-color:#9D6CFF; color:white; width:200px; height:30px; padding-left:5px; border-radius:4px; flex-direction:row; justify-content:space-around; align-items:center;\" onmouseover=\"this.style.backgroundColor='#BA9BF8'\" onmouseout=\"this.style.backgroundColor='#9D6CFF'\" onclick=\"window.commands?.execute('create-mitosheet-from-dataframe-output');\">See Full Dataframe in Mito</div> <script> if (window.commands?.hasCommand('create-mitosheet-from-dataframe-output')) document.getElementById('d4d8cc53-6710-417b-8028-41ad41086b55').style.display = 'flex' </script> <table border=\"1\" class=\"dataframe\">\n",
       "  <thead>\n",
       "    <tr style=\"text-align: right;\">\n",
       "      <th></th>\n",
       "      <th>f2_text</th>\n",
       "      <th>f2_url</th>\n",
       "      <th>f1_url</th>\n",
       "    </tr>\n",
       "  </thead>\n",
       "  <tbody>\n",
       "    <tr>\n",
       "      <th>0</th>\n",
       "      <td>Audited Financial Statements</td>\n",
       "      <td>https://apps.cer-rec.gc.ca/REGDOCS/Item/LoadResult/3773160</td>\n",
       "      <td>https://apps.cer-rec.gc.ca/REGDOCS/Item/LoadFeatured/92840</td>\n",
       "    </tr>\n",
       "    <tr>\n",
       "      <th>1</th>\n",
       "      <td>Financial Audit</td>\n",
       "      <td>https://apps.cer-rec.gc.ca/REGDOCS/Item/LoadResult/568135</td>\n",
       "      <td>https://apps.cer-rec.gc.ca/REGDOCS/Item/LoadFeatured/92840</td>\n",
       "    </tr>\n",
       "    <tr>\n",
       "      <th>2</th>\n",
       "      <td>Gas Transportation Tariffs</td>\n",
       "      <td>https://apps.cer-rec.gc.ca/REGDOCS/Item/LoadResult/140398</td>\n",
       "      <td>https://apps.cer-rec.gc.ca/REGDOCS/Item/LoadFeatured/92840</td>\n",
       "    </tr>\n",
       "    <tr>\n",
       "      <th>3</th>\n",
       "      <td>Operating and Maintenance Expenses</td>\n",
       "      <td>https://apps.cer-rec.gc.ca/REGDOCS/Item/LoadResult/304889</td>\n",
       "      <td>https://apps.cer-rec.gc.ca/REGDOCS/Item/LoadFeatured/92840</td>\n",
       "    </tr>\n",
       "    <tr>\n",
       "      <th>4</th>\n",
       "      <td>Quarterly Surveillance Reports</td>\n",
       "      <td>https://apps.cer-rec.gc.ca/REGDOCS/Item/LoadResult/155864</td>\n",
       "      <td>https://apps.cer-rec.gc.ca/REGDOCS/Item/LoadFeatured/92840</td>\n",
       "    </tr>\n",
       "  </tbody>\n",
       "</table></div>"
      ],
      "text/plain": [
       "                              f2_text  \\\n",
       "0        Audited Financial Statements   \n",
       "1                     Financial Audit   \n",
       "2          Gas Transportation Tariffs   \n",
       "3  Operating and Maintenance Expenses   \n",
       "4      Quarterly Surveillance Reports   \n",
       "\n",
       "                                              f2_url  \\\n",
       "0  https://apps.cer-rec.gc.ca/REGDOCS/Item/LoadRe...   \n",
       "1  https://apps.cer-rec.gc.ca/REGDOCS/Item/LoadRe...   \n",
       "2  https://apps.cer-rec.gc.ca/REGDOCS/Item/LoadRe...   \n",
       "3  https://apps.cer-rec.gc.ca/REGDOCS/Item/LoadRe...   \n",
       "4  https://apps.cer-rec.gc.ca/REGDOCS/Item/LoadRe...   \n",
       "\n",
       "                                              f1_url  \n",
       "0  https://apps.cer-rec.gc.ca/REGDOCS/Item/LoadFe...  \n",
       "1  https://apps.cer-rec.gc.ca/REGDOCS/Item/LoadFe...  \n",
       "2  https://apps.cer-rec.gc.ca/REGDOCS/Item/LoadFe...  \n",
       "3  https://apps.cer-rec.gc.ca/REGDOCS/Item/LoadFe...  \n",
       "4  https://apps.cer-rec.gc.ca/REGDOCS/Item/LoadFe...  "
      ]
     },
     "execution_count": 20,
     "metadata": {},
     "output_type": "execute_result"
    },
    {
     "data": {
      "text/plain": [
       "f2_text    12\n",
       "f2_url     34\n",
       "f1_url      9\n",
       "dtype: int64"
      ]
     },
     "execution_count": 20,
     "metadata": {},
     "output_type": "execute_result"
    },
    {
     "data": {
      "text/plain": [
       "<AxesSubplot:title={'center':'top featured information'}>"
      ]
     },
     "execution_count": 20,
     "metadata": {},
     "output_type": "execute_result"
    },
    {
     "data": {
      "image/png": "[encoded data removed]",
      "text/plain": [
       "<Figure size 504x648 with 1 Axes>"
      ]
     },
     "metadata": {
      "needs_background": "light"
     },
     "output_type": "display_data"
    }
   ],
   "source": [
    "df_l1['f1_url'] = df_l1['l1_url'].str.replace('Result', 'Featured')\n",
    "\n",
    "dfs_collector = []\n",
    "get_featured_information(source = df_l1['f1_url'], string1 = 'f2_', string2 = 'f1_')\n",
    "\n",
    "df_f2 = pd.concat(dfs_collector)\n",
    "df_f2.shape\n",
    "df_f2.isnull().sum() #no docs\n",
    "df_f2.head()\n",
    "df_f2.nunique()\n",
    "df_f2 = df_f2.dropna(axis = 1, how = 'all')\n",
    "df_f2.to_csv('Group1Tolls_df_f2.csv', index = False)\n",
    "\n",
    "df_f2['f2_text'].value_counts()[:30].sort_values(ascending = True).plot(kind = 'barh', title = 'top featured information', figsize=(7, 9))"
   ]
  },
  {
   "cell_type": "markdown",
   "id": "ffb7f5f1",
   "metadata": {},
   "source": [
    "## Featured level 3"
   ]
  },
  {
   "cell_type": "code",
   "execution_count": 21,
   "id": "cf568f7e",
   "metadata": {
    "scrolled": false
   },
   "outputs": [
    {
     "data": {
      "text/plain": [
       "(724, 7)"
      ]
     },
     "execution_count": 21,
     "metadata": {},
     "output_type": "execute_result"
    },
    {
     "data": {
      "text/plain": [
       "f3_text                     0\n",
       "f3_url                      0\n",
       "f2_url                      0\n",
       "document_name             724\n",
       "document_download_link    724\n",
       "document_date             724\n",
       "doc_submitter             724\n",
       "dtype: int64"
      ]
     },
     "execution_count": 21,
     "metadata": {},
     "output_type": "execute_result"
    },
    {
     "data": {
      "text/plain": [
       "f3_text    610\n",
       "f3_url     724\n",
       "f2_url      32\n",
       "dtype: int64"
      ]
     },
     "execution_count": 21,
     "metadata": {},
     "output_type": "execute_result"
    },
    {
     "data": {
      "text/html": [
       "<div><div id=c82792a7-13b2-4f16-b6db-77c7379e28f3 style=\"display:none; background-color:#9D6CFF; color:white; width:200px; height:30px; padding-left:5px; border-radius:4px; flex-direction:row; justify-content:space-around; align-items:center;\" onmouseover=\"this.style.backgroundColor='#BA9BF8'\" onmouseout=\"this.style.backgroundColor='#9D6CFF'\" onclick=\"window.commands?.execute('create-mitosheet-from-dataframe-output');\">See Full Dataframe in Mito</div> <script> if (window.commands?.hasCommand('create-mitosheet-from-dataframe-output')) document.getElementById('c82792a7-13b2-4f16-b6db-77c7379e28f3').style.display = 'flex' </script> <table border=\"1\" class=\"dataframe\">\n",
       "  <thead>\n",
       "    <tr style=\"text-align: right;\">\n",
       "      <th></th>\n",
       "      <th>f3_text</th>\n",
       "      <th>f3_url</th>\n",
       "      <th>f2_url</th>\n",
       "    </tr>\n",
       "  </thead>\n",
       "  <tbody>\n",
       "    <tr>\n",
       "      <th>0</th>\n",
       "      <td>C05990 Foothills Pipe Lines Ltd. - Foothills 2019 Abandonment Funding Reporting</td>\n",
       "      <td>https://apps.cer-rec.gc.ca/REGDOCS/Item/LoadResult/3922798</td>\n",
       "      <td>https://apps.cer-rec.gc.ca/REGDOCS/Item/LoadResult/3773160</td>\n",
       "    </tr>\n",
       "    <tr>\n",
       "      <th>0</th>\n",
       "      <td>09-09-22 NEB - Letter and Final Financial Regulatory Audit Report of Years 2007 to 2008 to Maritimes &amp; Northeast Pipeline Management Ltd. (A22874)</td>\n",
       "      <td>https://apps.cer-rec.gc.ca/REGDOCS/Item/LoadResult/571177</td>\n",
       "      <td>https://apps.cer-rec.gc.ca/REGDOCS/Item/LoadResult/571193</td>\n",
       "    </tr>\n",
       "    <tr>\n",
       "      <th>1</th>\n",
       "      <td>C20220 CER | REC - Maritimes &amp; Northeast Pipeline Management Ltd. -  Financial Regulatory Compliance Audit – Abandonment Trust Funding</td>\n",
       "      <td>https://apps.cer-rec.gc.ca/REGDOCS/Item/LoadResult/4255636</td>\n",
       "      <td>https://apps.cer-rec.gc.ca/REGDOCS/Item/LoadResult/571193</td>\n",
       "    </tr>\n",
       "    <tr>\n",
       "      <th>0</th>\n",
       "      <td>Reports for 2001</td>\n",
       "      <td>https://apps.cer-rec.gc.ca/REGDOCS/Item/LoadResult/237019</td>\n",
       "      <td>https://apps.cer-rec.gc.ca/REGDOCS/Item/LoadResult/155864</td>\n",
       "    </tr>\n",
       "    <tr>\n",
       "      <th>1</th>\n",
       "      <td>Reports for 2002</td>\n",
       "      <td>https://apps.cer-rec.gc.ca/REGDOCS/Item/LoadResult/236926</td>\n",
       "      <td>https://apps.cer-rec.gc.ca/REGDOCS/Item/LoadResult/155864</td>\n",
       "    </tr>\n",
       "  </tbody>\n",
       "</table></div>"
      ],
      "text/plain": [
       "                                             f3_text  \\\n",
       "0  C05990 Foothills Pipe Lines Ltd. - Foothills 2...   \n",
       "0  09-09-22 NEB - Letter and Final Financial Regu...   \n",
       "1  C20220 CER | REC - Maritimes & Northeast Pipel...   \n",
       "0                                   Reports for 2001   \n",
       "1                                   Reports for 2002   \n",
       "\n",
       "                                              f3_url  \\\n",
       "0  https://apps.cer-rec.gc.ca/REGDOCS/Item/LoadRe...   \n",
       "0  https://apps.cer-rec.gc.ca/REGDOCS/Item/LoadRe...   \n",
       "1  https://apps.cer-rec.gc.ca/REGDOCS/Item/LoadRe...   \n",
       "0  https://apps.cer-rec.gc.ca/REGDOCS/Item/LoadRe...   \n",
       "1  https://apps.cer-rec.gc.ca/REGDOCS/Item/LoadRe...   \n",
       "\n",
       "                                              f2_url  \n",
       "0  https://apps.cer-rec.gc.ca/REGDOCS/Item/LoadRe...  \n",
       "0  https://apps.cer-rec.gc.ca/REGDOCS/Item/LoadRe...  \n",
       "1  https://apps.cer-rec.gc.ca/REGDOCS/Item/LoadRe...  \n",
       "0  https://apps.cer-rec.gc.ca/REGDOCS/Item/LoadRe...  \n",
       "1  https://apps.cer-rec.gc.ca/REGDOCS/Item/LoadRe...  "
      ]
     },
     "execution_count": 21,
     "metadata": {},
     "output_type": "execute_result"
    },
    {
     "data": {
      "text/plain": [
       "<AxesSubplot:title={'center':'top level 3'}>"
      ]
     },
     "execution_count": 21,
     "metadata": {},
     "output_type": "execute_result"
    },
    {
     "data": {
      "image/png": "[encoded data removed]",
      "text/plain": [
       "<Figure size 504x648 with 1 Axes>"
      ]
     },
     "metadata": {
      "needs_background": "light"
     },
     "output_type": "display_data"
    }
   ],
   "source": [
    "dfs_collector = []\n",
    "get_documents(source = df_f2['f2_url'], string1 = 'f3_', string2 = 'f2_')\n",
    "\n",
    "df_f3 = pd.concat(dfs_collector) \n",
    "df_f3.shape\n",
    "df_f3.isnull().sum() #no docs\n",
    "df_f3 = df_f3.dropna(axis = 1, how = 'all')\n",
    "df_f3.nunique()\n",
    "df_f3.head()\n",
    "df_f3.to_csv('Group1Tolls_df_f3.csv', index = False)\n",
    "df_f3['f3_text'].value_counts()[:30].sort_values(ascending = True).plot(kind = 'barh', title = 'top level 3', figsize=(7, 9))\n"
   ]
  },
  {
   "cell_type": "markdown",
   "id": "64b6246d",
   "metadata": {},
   "source": [
    "## Featured level 4"
   ]
  },
  {
   "cell_type": "code",
   "execution_count": 22,
   "id": "280d7906",
   "metadata": {
    "scrolled": false
   },
   "outputs": [
    {
     "data": {
      "text/plain": [
       "(1844, 7)"
      ]
     },
     "execution_count": 22,
     "metadata": {},
     "output_type": "execute_result"
    },
    {
     "data": {
      "text/plain": [
       "f4_text                   1317\n",
       "f4_url                    1317\n",
       "f3_url                       0\n",
       "document_name              527\n",
       "document_download_link     527\n",
       "document_date              527\n",
       "doc_submitter              527\n",
       "dtype: int64"
      ]
     },
     "execution_count": 22,
     "metadata": {},
     "output_type": "execute_result"
    },
    {
     "data": {
      "text/plain": [
       "f4_text                    525\n",
       "f4_url                     518\n",
       "f3_url                     724\n",
       "document_name             1317\n",
       "document_download_link    1274\n",
       "document_date              506\n",
       "doc_submitter               73\n",
       "dtype: int64"
      ]
     },
     "execution_count": 22,
     "metadata": {},
     "output_type": "execute_result"
    },
    {
     "data": {
      "text/html": [
       "<div><div id=48347dc8-b373-487f-8773-96ef68a4e366 style=\"display:none; background-color:#9D6CFF; color:white; width:200px; height:30px; padding-left:5px; border-radius:4px; flex-direction:row; justify-content:space-around; align-items:center;\" onmouseover=\"this.style.backgroundColor='#BA9BF8'\" onmouseout=\"this.style.backgroundColor='#9D6CFF'\" onclick=\"window.commands?.execute('create-mitosheet-from-dataframe-output');\">See Full Dataframe in Mito</div> <script> if (window.commands?.hasCommand('create-mitosheet-from-dataframe-output')) document.getElementById('48347dc8-b373-487f-8773-96ef68a4e366').style.display = 'flex' </script> <table border=\"1\" class=\"dataframe\">\n",
       "  <thead>\n",
       "    <tr style=\"text-align: right;\">\n",
       "      <th></th>\n",
       "      <th>f4_text</th>\n",
       "      <th>f4_url</th>\n",
       "      <th>f3_url</th>\n",
       "      <th>document_name</th>\n",
       "      <th>document_download_link</th>\n",
       "      <th>document_date</th>\n",
       "      <th>doc_submitter</th>\n",
       "    </tr>\n",
       "  </thead>\n",
       "  <tbody>\n",
       "    <tr>\n",
       "      <th>0</th>\n",
       "      <td>NaN</td>\n",
       "      <td>NaN</td>\n",
       "      <td>https://apps.cer-rec.gc.ca/REGDOCS/Item/LoadResult/4255636</td>\n",
       "      <td>C20220-1 Letter to Maritimes &amp; Northeast Pipeline Management Ltd. - Financial Regulatory Compliance Audit – Abandonment Trust Funding - A8F4F5</td>\n",
       "      <td>/REGDOCS/File/Download/4255637</td>\n",
       "      <td>2022-07-25</td>\n",
       "      <td>CER | REC</td>\n",
       "    </tr>\n",
       "  </tbody>\n",
       "</table></div>"
      ],
      "text/plain": [
       "  f4_text f4_url                                             f3_url  \\\n",
       "0     NaN    NaN  https://apps.cer-rec.gc.ca/REGDOCS/Item/LoadRe...   \n",
       "\n",
       "                                       document_name  \\\n",
       "0  C20220-1 Letter to Maritimes & Northeast Pipel...   \n",
       "\n",
       "           document_download_link document_date doc_submitter  \n",
       "0  /REGDOCS/File/Download/4255637    2022-07-25     CER | REC  "
      ]
     },
     "execution_count": 22,
     "metadata": {},
     "output_type": "execute_result"
    },
    {
     "data": {
      "text/plain": [
       "<AxesSubplot:title={'center':'top featured information'}>"
      ]
     },
     "execution_count": 22,
     "metadata": {},
     "output_type": "execute_result"
    },
    {
     "data": {
      "image/png": "[encoded data removed]",
      "text/plain": [
       "<Figure size 504x648 with 1 Axes>"
      ]
     },
     "metadata": {
      "needs_background": "light"
     },
     "output_type": "display_data"
    }
   ],
   "source": [
    "# %%time\n",
    "# Wall time: 34 s\n",
    "dfs_collector = []\n",
    "get_documents(source = df_f3['f3_url'], string1 = 'f4_', string2 = 'f3_')\n",
    "\n",
    "\n",
    "df_f4 = pd.concat(dfs_collector) \n",
    "df_f4.shape\n",
    "df_f4.isnull().sum() #some docs\n",
    "df_f4.nunique()\n",
    "df_f4.head(1)\n",
    "df_f4.to_csv('Group1Tolls_df_f4.csv', index = False)\n",
    "df_f4['f4_text'].value_counts()[:30].sort_values(ascending = True).plot(kind = 'barh', title = 'top featured information', figsize=(7, 9))"
   ]
  },
  {
   "cell_type": "markdown",
   "id": "6e98cf14",
   "metadata": {},
   "source": [
    "### Featured level 4 path"
   ]
  },
  {
   "cell_type": "code",
   "execution_count": 23,
   "id": "beb18ba7",
   "metadata": {},
   "outputs": [
    {
     "data": {
      "text/plain": [
       "(527, 3)"
      ]
     },
     "execution_count": 23,
     "metadata": {},
     "output_type": "execute_result"
    },
    {
     "data": {
      "text/plain": [
       "(527, 3)"
      ]
     },
     "execution_count": 23,
     "metadata": {},
     "output_type": "execute_result"
    },
    {
     "data": {
      "text/html": [
       "<div><div id=c04d3d8a-cb89-4905-be1d-03e61da31745 style=\"display:none; background-color:#9D6CFF; color:white; width:200px; height:30px; padding-left:5px; border-radius:4px; flex-direction:row; justify-content:space-around; align-items:center;\" onmouseover=\"this.style.backgroundColor='#BA9BF8'\" onmouseout=\"this.style.backgroundColor='#9D6CFF'\" onclick=\"window.commands?.execute('create-mitosheet-from-dataframe-output');\">See Full Dataframe in Mito</div> <script> if (window.commands?.hasCommand('create-mitosheet-from-dataframe-output')) document.getElementById('c04d3d8a-cb89-4905-be1d-03e61da31745').style.display = 'flex' </script> <table border=\"1\" class=\"dataframe\">\n",
       "  <thead>\n",
       "    <tr style=\"text-align: right;\">\n",
       "      <th></th>\n",
       "      <th>f4_text</th>\n",
       "      <th>f4_url</th>\n",
       "      <th>f3_url</th>\n",
       "    </tr>\n",
       "  </thead>\n",
       "  <tbody>\n",
       "    <tr>\n",
       "      <th>0</th>\n",
       "      <td>06-02-28 Foothills Pipe Lines Ltd. - Annual Surveillance Report for Twelve Months Ended December 31, 2005 (A11547)</td>\n",
       "      <td>https://apps.cer-rec.gc.ca/REGDOCS/Item/LoadResult/399751</td>\n",
       "      <td>https://apps.cer-rec.gc.ca/REGDOCS/Item/LoadResult/399761</td>\n",
       "    </tr>\n",
       "  </tbody>\n",
       "</table></div>"
      ],
      "text/plain": [
       "                                             f4_text  \\\n",
       "0  06-02-28 Foothills Pipe Lines Ltd. - Annual Su...   \n",
       "\n",
       "                                              f4_url  \\\n",
       "0  https://apps.cer-rec.gc.ca/REGDOCS/Item/LoadRe...   \n",
       "\n",
       "                                              f3_url  \n",
       "0  https://apps.cer-rec.gc.ca/REGDOCS/Item/LoadRe...  "
      ]
     },
     "execution_count": 23,
     "metadata": {},
     "output_type": "execute_result"
    }
   ],
   "source": [
    "df_f4_path = df_f4\n",
    "\n",
    "df_f4_path = df_f4_path.dropna(subset = ['f4_text'])\n",
    "df_f4_path = df_f4_path.dropna(axis = 1, how = 'all')\n",
    "df_f4_path.shape\n",
    "\n",
    "df_f4_path = df_f4_path.drop_duplicates()\n",
    "df_f4_path.shape\n",
    "df_f4_path.head(1)"
   ]
  },
  {
   "cell_type": "markdown",
   "id": "4627877e",
   "metadata": {},
   "source": [
    "### Featured level 4 documents"
   ]
  },
  {
   "cell_type": "code",
   "execution_count": 24,
   "id": "3c351a5c",
   "metadata": {},
   "outputs": [
    {
     "data": {
      "text/plain": [
       "(1317, 11)"
      ]
     },
     "execution_count": 24,
     "metadata": {},
     "output_type": "execute_result"
    },
    {
     "data": {
      "text/plain": [
       "(1317, 12)"
      ]
     },
     "execution_count": 24,
     "metadata": {},
     "output_type": "execute_result"
    },
    {
     "data": {
      "text/html": [
       "<div><div id=06e7b592-3b17-41f0-9243-c7f5d561611a style=\"display:none; background-color:#9D6CFF; color:white; width:200px; height:30px; padding-left:5px; border-radius:4px; flex-direction:row; justify-content:space-around; align-items:center;\" onmouseover=\"this.style.backgroundColor='#BA9BF8'\" onmouseout=\"this.style.backgroundColor='#9D6CFF'\" onclick=\"window.commands?.execute('create-mitosheet-from-dataframe-output');\">See Full Dataframe in Mito</div> <script> if (window.commands?.hasCommand('create-mitosheet-from-dataframe-output')) document.getElementById('06e7b592-3b17-41f0-9243-c7f5d561611a').style.display = 'flex' </script> <table border=\"1\" class=\"dataframe\">\n",
       "  <thead>\n",
       "    <tr style=\"text-align: right;\">\n",
       "      <th></th>\n",
       "      <th>folder_name_url</th>\n",
       "      <th>document_name</th>\n",
       "      <th>document_download_link</th>\n",
       "      <th>document_date</th>\n",
       "      <th>doc_submitter</th>\n",
       "      <th>folder_name</th>\n",
       "      <th>featured_information_type_url</th>\n",
       "      <th>featured_information_type</th>\n",
       "      <th>f1_url</th>\n",
       "      <th>company_name</th>\n",
       "      <th>company_name_url</th>\n",
       "      <th>commodity</th>\n",
       "    </tr>\n",
       "  </thead>\n",
       "  <tbody>\n",
       "    <tr>\n",
       "      <th>0</th>\n",
       "      <td>https://apps.cer-rec.gc.ca/REGDOCS/Item/LoadResult/4255636</td>\n",
       "      <td>C20220-1 Letter to Maritimes &amp; Northeast Pipeline Management Ltd. - Financial Regulatory Compliance Audit – Abandonment Trust Funding - A8F4F5</td>\n",
       "      <td>/REGDOCS/File/Download/4255637</td>\n",
       "      <td>2022-07-25</td>\n",
       "      <td>CER | REC</td>\n",
       "      <td>C20220 CER | REC - Maritimes &amp; Northeast Pipeline Management Ltd. -  Financial Regulatory Compliance Audit – Abandonment Trust Funding</td>\n",
       "      <td>https://apps.cer-rec.gc.ca/REGDOCS/Item/LoadResult/571193</td>\n",
       "      <td>Financial Regulatory Audits</td>\n",
       "      <td>https://apps.cer-rec.gc.ca/REGDOCS/Item/LoadFeatured/92842</td>\n",
       "      <td>Maritimes &amp; Northeast Pipelines Ltd</td>\n",
       "      <td>https://apps.cer-rec.gc.ca/REGDOCS/Item/LoadResult/92842</td>\n",
       "      <td>gas</td>\n",
       "    </tr>\n",
       "  </tbody>\n",
       "</table></div>"
      ],
      "text/plain": [
       "                                     folder_name_url  \\\n",
       "0  https://apps.cer-rec.gc.ca/REGDOCS/Item/LoadRe...   \n",
       "\n",
       "                                       document_name  \\\n",
       "0  C20220-1 Letter to Maritimes & Northeast Pipel...   \n",
       "\n",
       "           document_download_link document_date doc_submitter  \\\n",
       "0  /REGDOCS/File/Download/4255637    2022-07-25     CER | REC   \n",
       "\n",
       "                                         folder_name  \\\n",
       "0  C20220 CER | REC - Maritimes & Northeast Pipel...   \n",
       "\n",
       "                       featured_information_type_url  \\\n",
       "0  https://apps.cer-rec.gc.ca/REGDOCS/Item/LoadRe...   \n",
       "\n",
       "     featured_information_type  \\\n",
       "0  Financial Regulatory Audits   \n",
       "\n",
       "                                              f1_url  \\\n",
       "0  https://apps.cer-rec.gc.ca/REGDOCS/Item/LoadFe...   \n",
       "\n",
       "                          company_name  \\\n",
       "0  Maritimes & Northeast Pipelines Ltd   \n",
       "\n",
       "                                    company_name_url commodity  \n",
       "0  https://apps.cer-rec.gc.ca/REGDOCS/Item/LoadRe...       gas  "
      ]
     },
     "execution_count": 24,
     "metadata": {},
     "output_type": "execute_result"
    }
   ],
   "source": [
    "df_f4_doc = df_f4\n",
    "df_f4_doc = df_f4_doc.dropna(subset = ['document_name']) \n",
    "df_f4_doc = df_f4_doc.dropna(axis = 1, how = 'all')\n",
    "\n",
    "df_f4_doc = df_f4_doc.merge(df_f3)\n",
    "df_f4_doc = df_f4_doc.merge(df_f2)\n",
    "df_f4_doc = df_f4_doc.merge(df_l1)\n",
    "df_f4_doc.shape\n",
    "\n",
    "df_f4_doc = df_f4_doc.rename(columns={\n",
    "                                  \"l1_text\" : \"company_name\", \"l1_url\" : \"company_name_url\",\n",
    "                                  \"f2_text\": \"featured_information_type\", 'f2_url' : \"featured_information_type_url\",\n",
    "                                  \"f3_text\" : \"folder_name\", \"f3_url\" : \"folder_name_url\"\n",
    "                                  })\n",
    "\n",
    "df_f4_doc['commodity'] = 'gas'\n",
    "\n",
    "df_f4_doc.shape\n",
    "df_f4_doc.head(1)"
   ]
  },
  {
   "cell_type": "markdown",
   "id": "95c3d2e4",
   "metadata": {},
   "source": [
    "## Featured level 5"
   ]
  },
  {
   "cell_type": "code",
   "execution_count": 25,
   "id": "109b024f",
   "metadata": {
    "scrolled": false
   },
   "outputs": [
    {
     "data": {
      "text/plain": [
       "(1247, 7)"
      ]
     },
     "execution_count": 25,
     "metadata": {},
     "output_type": "execute_result"
    },
    {
     "data": {
      "text/plain": [
       "f5_text                   1244\n",
       "f5_url                    1244\n",
       "f4_url                       0\n",
       "document_name                3\n",
       "document_download_link       3\n",
       "document_date                3\n",
       "doc_submitter                3\n",
       "dtype: int64"
      ]
     },
     "execution_count": 25,
     "metadata": {},
     "output_type": "execute_result"
    },
    {
     "data": {
      "text/html": [
       "<div><div id=40811987-4ef0-4c12-9447-25e50f4db76a style=\"display:none; background-color:#9D6CFF; color:white; width:200px; height:30px; padding-left:5px; border-radius:4px; flex-direction:row; justify-content:space-around; align-items:center;\" onmouseover=\"this.style.backgroundColor='#BA9BF8'\" onmouseout=\"this.style.backgroundColor='#9D6CFF'\" onclick=\"window.commands?.execute('create-mitosheet-from-dataframe-output');\">See Full Dataframe in Mito</div> <script> if (window.commands?.hasCommand('create-mitosheet-from-dataframe-output')) document.getElementById('40811987-4ef0-4c12-9447-25e50f4db76a').style.display = 'flex' </script> <table border=\"1\" class=\"dataframe\">\n",
       "  <thead>\n",
       "    <tr style=\"text-align: right;\">\n",
       "      <th></th>\n",
       "      <th>f5_text</th>\n",
       "      <th>f5_url</th>\n",
       "      <th>f4_url</th>\n",
       "      <th>document_name</th>\n",
       "      <th>document_download_link</th>\n",
       "      <th>document_date</th>\n",
       "      <th>doc_submitter</th>\n",
       "    </tr>\n",
       "  </thead>\n",
       "  <tbody>\n",
       "    <tr>\n",
       "      <th>0</th>\n",
       "      <td>NaN</td>\n",
       "      <td>NaN</td>\n",
       "      <td>https://apps.cer-rec.gc.ca/REGDOCS/Item/LoadResult/399751</td>\n",
       "      <td>A0T4X6 - Cover Letter</td>\n",
       "      <td>/REGDOCS/File/Download/399752</td>\n",
       "      <td>2006-03-01</td>\n",
       "      <td>Foothills Pipe Lines Ltd.</td>\n",
       "    </tr>\n",
       "    <tr>\n",
       "      <th>1</th>\n",
       "      <td>NaN</td>\n",
       "      <td>NaN</td>\n",
       "      <td>https://apps.cer-rec.gc.ca/REGDOCS/Item/LoadResult/399751</td>\n",
       "      <td>A0T4X7 - Surveillance Report</td>\n",
       "      <td>/REGDOCS/File/Download/399755</td>\n",
       "      <td>2006-03-01</td>\n",
       "      <td>Foothills Pipe Lines Ltd.</td>\n",
       "    </tr>\n",
       "    <tr>\n",
       "      <th>2</th>\n",
       "      <td>NaN</td>\n",
       "      <td>NaN</td>\n",
       "      <td>https://apps.cer-rec.gc.ca/REGDOCS/Item/LoadResult/399751</td>\n",
       "      <td>A0T4X8 - Receipt</td>\n",
       "      <td>/REGDOCS/File/Download/399758</td>\n",
       "      <td>2006-03-01</td>\n",
       "      <td>Foothills Pipe Lines Ltd.</td>\n",
       "    </tr>\n",
       "    <tr>\n",
       "      <th>0</th>\n",
       "      <td>NaN</td>\n",
       "      <td>NaN</td>\n",
       "      <td>https://apps.cer-rec.gc.ca/REGDOCS/Item/LoadResult/170433</td>\n",
       "      <td>Surveillance report (A0D6E3)</td>\n",
       "      <td>/REGDOCS/File/Download/40940</td>\n",
       "      <td>2002-04-06</td>\n",
       "      <td>Foothills Pipelines Ltd.</td>\n",
       "    </tr>\n",
       "    <tr>\n",
       "      <th>1</th>\n",
       "      <td>NaN</td>\n",
       "      <td>NaN</td>\n",
       "      <td>https://apps.cer-rec.gc.ca/REGDOCS/Item/LoadResult/170433</td>\n",
       "      <td>Receipt (A0D6E4)</td>\n",
       "      <td>/REGDOCS/File/Download/170802</td>\n",
       "      <td>2002-04-06</td>\n",
       "      <td>Foothills Pipelines Ltd.</td>\n",
       "    </tr>\n",
       "    <tr>\n",
       "      <th>0</th>\n",
       "      <td>NaN</td>\n",
       "      <td>NaN</td>\n",
       "      <td>https://apps.cer-rec.gc.ca/REGDOCS/Item/LoadResult/269007</td>\n",
       "      <td>A0H8I4 - Letter</td>\n",
       "      <td>/REGDOCS/File/Download/269008</td>\n",
       "      <td>2003-03-18</td>\n",
       "      <td>Foothills Pipe Lines Ltd.</td>\n",
       "    </tr>\n",
       "    <tr>\n",
       "      <th>1</th>\n",
       "      <td>NaN</td>\n",
       "      <td>NaN</td>\n",
       "      <td>https://apps.cer-rec.gc.ca/REGDOCS/Item/LoadResult/269007</td>\n",
       "      <td>A0H8I5 - Surveillance report</td>\n",
       "      <td>/REGDOCS/File/Download/269011</td>\n",
       "      <td>2003-03-18</td>\n",
       "      <td>Foothills Pipe Lines Ltd.</td>\n",
       "    </tr>\n",
       "    <tr>\n",
       "      <th>2</th>\n",
       "      <td>NaN</td>\n",
       "      <td>NaN</td>\n",
       "      <td>https://apps.cer-rec.gc.ca/REGDOCS/Item/LoadResult/269007</td>\n",
       "      <td>A0H8I6 - Receipt</td>\n",
       "      <td>/REGDOCS/File/Download/269014</td>\n",
       "      <td>2003-03-18</td>\n",
       "      <td>Foothills Pipe Lines Ltd.</td>\n",
       "    </tr>\n",
       "    <tr>\n",
       "      <th>0</th>\n",
       "      <td>NaN</td>\n",
       "      <td>NaN</td>\n",
       "      <td>https://apps.cer-rec.gc.ca/REGDOCS/Item/LoadResult/353732</td>\n",
       "      <td>A0Q2D6 - 2004 Annual Surveillance Report</td>\n",
       "      <td>/REGDOCS/File/Download/353848</td>\n",
       "      <td>2005-02-28</td>\n",
       "      <td>Foothills Pipe Lines Ltd.</td>\n",
       "    </tr>\n",
       "    <tr>\n",
       "      <th>1</th>\n",
       "      <td>NaN</td>\n",
       "      <td>NaN</td>\n",
       "      <td>https://apps.cer-rec.gc.ca/REGDOCS/Item/LoadResult/353732</td>\n",
       "      <td>A0Q2D7 - Receipt</td>\n",
       "      <td>/REGDOCS/File/Download/353667</td>\n",
       "      <td>2005-02-28</td>\n",
       "      <td>Foothills Pipe Lines Ltd.</td>\n",
       "    </tr>\n",
       "  </tbody>\n",
       "</table></div>"
      ],
      "text/plain": [
       "  f5_text f5_url                                             f4_url  \\\n",
       "0     NaN    NaN  https://apps.cer-rec.gc.ca/REGDOCS/Item/LoadRe...   \n",
       "1     NaN    NaN  https://apps.cer-rec.gc.ca/REGDOCS/Item/LoadRe...   \n",
       "2     NaN    NaN  https://apps.cer-rec.gc.ca/REGDOCS/Item/LoadRe...   \n",
       "0     NaN    NaN  https://apps.cer-rec.gc.ca/REGDOCS/Item/LoadRe...   \n",
       "1     NaN    NaN  https://apps.cer-rec.gc.ca/REGDOCS/Item/LoadRe...   \n",
       "0     NaN    NaN  https://apps.cer-rec.gc.ca/REGDOCS/Item/LoadRe...   \n",
       "1     NaN    NaN  https://apps.cer-rec.gc.ca/REGDOCS/Item/LoadRe...   \n",
       "2     NaN    NaN  https://apps.cer-rec.gc.ca/REGDOCS/Item/LoadRe...   \n",
       "0     NaN    NaN  https://apps.cer-rec.gc.ca/REGDOCS/Item/LoadRe...   \n",
       "1     NaN    NaN  https://apps.cer-rec.gc.ca/REGDOCS/Item/LoadRe...   \n",
       "\n",
       "                              document_name         document_download_link  \\\n",
       "0                     A0T4X6 - Cover Letter  /REGDOCS/File/Download/399752   \n",
       "1              A0T4X7 - Surveillance Report  /REGDOCS/File/Download/399755   \n",
       "2                          A0T4X8 - Receipt  /REGDOCS/File/Download/399758   \n",
       "0              Surveillance report (A0D6E3)   /REGDOCS/File/Download/40940   \n",
       "1                          Receipt (A0D6E4)  /REGDOCS/File/Download/170802   \n",
       "0                           A0H8I4 - Letter  /REGDOCS/File/Download/269008   \n",
       "1              A0H8I5 - Surveillance report  /REGDOCS/File/Download/269011   \n",
       "2                          A0H8I6 - Receipt  /REGDOCS/File/Download/269014   \n",
       "0  A0Q2D6 - 2004 Annual Surveillance Report  /REGDOCS/File/Download/353848   \n",
       "1                          A0Q2D7 - Receipt  /REGDOCS/File/Download/353667   \n",
       "\n",
       "  document_date              doc_submitter  \n",
       "0    2006-03-01  Foothills Pipe Lines Ltd.  \n",
       "1    2006-03-01  Foothills Pipe Lines Ltd.  \n",
       "2    2006-03-01  Foothills Pipe Lines Ltd.  \n",
       "0    2002-04-06   Foothills Pipelines Ltd.  \n",
       "1    2002-04-06   Foothills Pipelines Ltd.  \n",
       "0    2003-03-18  Foothills Pipe Lines Ltd.  \n",
       "1    2003-03-18  Foothills Pipe Lines Ltd.  \n",
       "2    2003-03-18  Foothills Pipe Lines Ltd.  \n",
       "0    2005-02-28  Foothills Pipe Lines Ltd.  \n",
       "1    2005-02-28  Foothills Pipe Lines Ltd.  "
      ]
     },
     "execution_count": 25,
     "metadata": {},
     "output_type": "execute_result"
    }
   ],
   "source": [
    "# %%time\n",
    "# CPU times: user 25.2 s, sys: 1.19 s, total: 26.4 s\n",
    "# Wall time: 1min 54s\n",
    "dfs_collector = []\n",
    "get_documents(source = df_f4_path['f4_url'], string1 = 'f5_', string2 = 'f4_')\n",
    "\n",
    "df_f5 = pd.concat(dfs_collector) \n",
    "df_f5.shape\n",
    "df_f5.isnull().sum()  \n",
    "df_f5.head(10)\n",
    "df_f5.to_csv('Group1Tolls_df_f5.csv', index = False)"
   ]
  },
  {
   "cell_type": "markdown",
   "id": "d99435f5",
   "metadata": {},
   "source": [
    "### Featured level 5 path"
   ]
  },
  {
   "cell_type": "code",
   "execution_count": 26,
   "id": "4d724e15",
   "metadata": {},
   "outputs": [
    {
     "data": {
      "text/plain": [
       "(3, 3)"
      ]
     },
     "execution_count": 26,
     "metadata": {},
     "output_type": "execute_result"
    },
    {
     "data": {
      "text/plain": [
       "(3, 3)"
      ]
     },
     "execution_count": 26,
     "metadata": {},
     "output_type": "execute_result"
    },
    {
     "data": {
      "text/html": [
       "<div><div id=6c891898-24c5-4f57-aaea-374bdc06825d style=\"display:none; background-color:#9D6CFF; color:white; width:200px; height:30px; padding-left:5px; border-radius:4px; flex-direction:row; justify-content:space-around; align-items:center;\" onmouseover=\"this.style.backgroundColor='#BA9BF8'\" onmouseout=\"this.style.backgroundColor='#9D6CFF'\" onclick=\"window.commands?.execute('create-mitosheet-from-dataframe-output');\">See Full Dataframe in Mito</div> <script> if (window.commands?.hasCommand('create-mitosheet-from-dataframe-output')) document.getElementById('6c891898-24c5-4f57-aaea-374bdc06825d').style.display = 'flex' </script> <table border=\"1\" class=\"dataframe\">\n",
       "  <thead>\n",
       "    <tr style=\"text-align: right;\">\n",
       "      <th></th>\n",
       "      <th>f5_text</th>\n",
       "      <th>f5_url</th>\n",
       "      <th>f4_url</th>\n",
       "    </tr>\n",
       "  </thead>\n",
       "  <tbody>\n",
       "    <tr>\n",
       "      <th>0</th>\n",
       "      <td>A01515 - Foothills Pipelines Ltd. - Tolls &amp; Tariffs - Quarterly Surveillance Report / Financial Statement</td>\n",
       "      <td>https://apps.cer-rec.gc.ca/REGDOCS/Item/LoadResult/149236</td>\n",
       "      <td>https://apps.cer-rec.gc.ca/REGDOCS/Item/LoadResult/155948</td>\n",
       "    </tr>\n",
       "    <tr>\n",
       "      <th>0</th>\n",
       "      <td>A75643 Foothills Pipe Lines Ltd. - Annual Surveillance Report - Revised Schedules 5.0 and 7.0</td>\n",
       "      <td>https://apps.cer-rec.gc.ca/REGDOCS/Item/LoadResult/2931677</td>\n",
       "      <td>https://apps.cer-rec.gc.ca/REGDOCS/Item/LoadResult/2696340</td>\n",
       "    </tr>\n",
       "    <tr>\n",
       "      <th>0</th>\n",
       "      <td>A01749 - Maritimes &amp; Northeast Pipeline - Tolls &amp; Tariffs - Quarterly Surveillance Report / Financial Statement</td>\n",
       "      <td>https://apps.cer-rec.gc.ca/REGDOCS/Item/LoadResult/157905</td>\n",
       "      <td>https://apps.cer-rec.gc.ca/REGDOCS/Item/LoadResult/162865</td>\n",
       "    </tr>\n",
       "  </tbody>\n",
       "</table></div>"
      ],
      "text/plain": [
       "                                             f5_text  \\\n",
       "0  A01515 - Foothills Pipelines Ltd. - Tolls & Ta...   \n",
       "0  A75643 Foothills Pipe Lines Ltd. - Annual Surv...   \n",
       "0  A01749 - Maritimes & Northeast Pipeline - Toll...   \n",
       "\n",
       "                                              f5_url  \\\n",
       "0  https://apps.cer-rec.gc.ca/REGDOCS/Item/LoadRe...   \n",
       "0  https://apps.cer-rec.gc.ca/REGDOCS/Item/LoadRe...   \n",
       "0  https://apps.cer-rec.gc.ca/REGDOCS/Item/LoadRe...   \n",
       "\n",
       "                                              f4_url  \n",
       "0  https://apps.cer-rec.gc.ca/REGDOCS/Item/LoadRe...  \n",
       "0  https://apps.cer-rec.gc.ca/REGDOCS/Item/LoadRe...  \n",
       "0  https://apps.cer-rec.gc.ca/REGDOCS/Item/LoadRe...  "
      ]
     },
     "execution_count": 26,
     "metadata": {},
     "output_type": "execute_result"
    }
   ],
   "source": [
    "df_f5_path = df_f5\n",
    "\n",
    "df_f5_path = df_f5_path.dropna(subset = ['f5_text'])\n",
    "df_f5_path = df_f5_path.dropna(axis = 1, how = 'all')\n",
    "df_f5_path.shape\n",
    "\n",
    "df_f5_path = df_f5_path.drop_duplicates()\n",
    "df_f5_path.shape\n",
    "\n",
    "df_f5_path.head()\n",
    "#ignoring these for now"
   ]
  },
  {
   "cell_type": "markdown",
   "id": "de730396",
   "metadata": {},
   "source": [
    "### Featured level 5 documents"
   ]
  },
  {
   "cell_type": "code",
   "execution_count": 27,
   "id": "d8495c31",
   "metadata": {},
   "outputs": [
    {
     "data": {
      "text/plain": [
       "(1292, 13)"
      ]
     },
     "execution_count": 27,
     "metadata": {},
     "output_type": "execute_result"
    },
    {
     "data": {
      "text/plain": [
       "(1292, 14)"
      ]
     },
     "execution_count": 27,
     "metadata": {},
     "output_type": "execute_result"
    },
    {
     "data": {
      "text/html": [
       "<div><div id=07d9576b-541d-401d-96f5-4cbe0e3685df style=\"display:none; background-color:#9D6CFF; color:white; width:200px; height:30px; padding-left:5px; border-radius:4px; flex-direction:row; justify-content:space-around; align-items:center;\" onmouseover=\"this.style.backgroundColor='#BA9BF8'\" onmouseout=\"this.style.backgroundColor='#9D6CFF'\" onclick=\"window.commands?.execute('create-mitosheet-from-dataframe-output');\">See Full Dataframe in Mito</div> <script> if (window.commands?.hasCommand('create-mitosheet-from-dataframe-output')) document.getElementById('07d9576b-541d-401d-96f5-4cbe0e3685df').style.display = 'flex' </script> <table border=\"1\" class=\"dataframe\">\n",
       "  <thead>\n",
       "    <tr style=\"text-align: right;\">\n",
       "      <th></th>\n",
       "      <th>folder_name_url</th>\n",
       "      <th>document_name</th>\n",
       "      <th>document_download_link</th>\n",
       "      <th>document_date</th>\n",
       "      <th>doc_submitter</th>\n",
       "      <th>folder_name</th>\n",
       "      <th>year_url</th>\n",
       "      <th>year</th>\n",
       "      <th>featured_information_type_url</th>\n",
       "      <th>featured_information_type</th>\n",
       "      <th>f1_url</th>\n",
       "      <th>company_name</th>\n",
       "      <th>company_name_url</th>\n",
       "      <th>commodity</th>\n",
       "    </tr>\n",
       "  </thead>\n",
       "  <tbody>\n",
       "    <tr>\n",
       "      <th>0</th>\n",
       "      <td>https://apps.cer-rec.gc.ca/REGDOCS/Item/LoadResult/399751</td>\n",
       "      <td>A0T4X6 - Cover Letter</td>\n",
       "      <td>/REGDOCS/File/Download/399752</td>\n",
       "      <td>2006-03-01</td>\n",
       "      <td>Foothills Pipe Lines Ltd.</td>\n",
       "      <td>06-02-28 Foothills Pipe Lines Ltd. - Annual Surveillance Report for Twelve Months Ended December 31, 2005 (A11547)</td>\n",
       "      <td>https://apps.cer-rec.gc.ca/REGDOCS/Item/LoadResult/399761</td>\n",
       "      <td>Reports for 2005</td>\n",
       "      <td>https://apps.cer-rec.gc.ca/REGDOCS/Item/LoadResult/155864</td>\n",
       "      <td>Quarterly Surveillance Reports</td>\n",
       "      <td>https://apps.cer-rec.gc.ca/REGDOCS/Item/LoadFeatured/92840</td>\n",
       "      <td>Foothills Pipe Lines Ltd</td>\n",
       "      <td>https://apps.cer-rec.gc.ca/REGDOCS/Item/LoadResult/92840</td>\n",
       "      <td>gas</td>\n",
       "    </tr>\n",
       "  </tbody>\n",
       "</table></div>"
      ],
      "text/plain": [
       "                                     folder_name_url          document_name  \\\n",
       "0  https://apps.cer-rec.gc.ca/REGDOCS/Item/LoadRe...  A0T4X6 - Cover Letter   \n",
       "\n",
       "          document_download_link document_date              doc_submitter  \\\n",
       "0  /REGDOCS/File/Download/399752    2006-03-01  Foothills Pipe Lines Ltd.   \n",
       "\n",
       "                                         folder_name  \\\n",
       "0  06-02-28 Foothills Pipe Lines Ltd. - Annual Su...   \n",
       "\n",
       "                                            year_url              year  \\\n",
       "0  https://apps.cer-rec.gc.ca/REGDOCS/Item/LoadRe...  Reports for 2005   \n",
       "\n",
       "                       featured_information_type_url  \\\n",
       "0  https://apps.cer-rec.gc.ca/REGDOCS/Item/LoadRe...   \n",
       "\n",
       "        featured_information_type  \\\n",
       "0  Quarterly Surveillance Reports   \n",
       "\n",
       "                                              f1_url  \\\n",
       "0  https://apps.cer-rec.gc.ca/REGDOCS/Item/LoadFe...   \n",
       "\n",
       "               company_name  \\\n",
       "0  Foothills Pipe Lines Ltd   \n",
       "\n",
       "                                    company_name_url commodity  \n",
       "0  https://apps.cer-rec.gc.ca/REGDOCS/Item/LoadRe...       gas  "
      ]
     },
     "execution_count": 27,
     "metadata": {},
     "output_type": "execute_result"
    }
   ],
   "source": [
    "df_f5_doc = df_f5\n",
    "df_f5_doc = df_f5_doc.dropna(subset = ['document_name']) \n",
    "df_f5_doc = df_f5_doc.dropna(axis = 1, how = 'all')\n",
    "\n",
    "df_f5_doc = df_f5_doc.merge(df_f4_path)\n",
    "df_f5_doc = df_f5_doc.merge(df_f3)\n",
    "df_f5_doc = df_f5_doc.merge(df_f2)\n",
    "df_f5_doc = df_f5_doc.merge(df_l1)\n",
    "df_f5_doc.shape\n",
    "\n",
    "df_f5_doc = df_f5_doc.rename(columns={\n",
    "                                  \"l1_text\" : \"company_name\", \"l1_url\" : \"company_name_url\",\n",
    "                                  \"f2_text\": \"featured_information_type\", 'f2_url' : \"featured_information_type_url\",\n",
    "                                  \"f3_text\": \"year\", 'f3_url' : \"year_url\",\n",
    "                                  \"f4_text\": \"folder_name\", 'f4_url' : \"folder_name_url\",\n",
    "                                  })\n",
    "                                  \n",
    "df_f5_doc['commodity'] = 'gas'\n",
    "\n",
    "df_f5_doc.shape\n",
    "df_f5_doc.head(1)"
   ]
  },
  {
   "cell_type": "markdown",
   "id": "9bfa1b9c",
   "metadata": {},
   "source": [
    "# Group1Tolls_all.csv"
   ]
  },
  {
   "cell_type": "code",
   "execution_count": 29,
   "id": "f187c6ad",
   "metadata": {},
   "outputs": [
    {
     "data": {
      "text/plain": [
       "Index(['folder_name_url', 'document_name', 'document_download_link',\n",
       "       'document_date', 'doc_submitter', 'folder_name',\n",
       "       'featured_information_type_url', 'featured_information_type', 'f1_url',\n",
       "       'company_name', 'company_name_url', 'commodity', 'year_url', 'year'],\n",
       "      dtype='object')"
      ]
     },
     "execution_count": 29,
     "metadata": {},
     "output_type": "execute_result"
    },
    {
     "data": {
      "text/plain": [
       "(3144, 14)"
      ]
     },
     "execution_count": 29,
     "metadata": {},
     "output_type": "execute_result"
    },
    {
     "data": {
      "text/plain": [
       "folder_name_url                  1784\n",
       "document_name                    2942\n",
       "document_download_link           2853\n",
       "document_date                    1117\n",
       "doc_submitter                     183\n",
       "folder_name                      1793\n",
       "featured_information_type_url      59\n",
       "featured_information_type          14\n",
       "f1_url                             19\n",
       "company_name                       19\n",
       "company_name_url                   19\n",
       "commodity                           2\n",
       "year_url                          182\n",
       "year                               30\n",
       "dtype: int64"
      ]
     },
     "execution_count": 29,
     "metadata": {},
     "output_type": "execute_result"
    }
   ],
   "source": [
    "df_all = pd.concat([df_f4_doc, df_f5_doc, df_f4_doc_oil, df_f5_doc_oil])\n",
    "df_all = df_all[df_all['document_name'].str.contains('Receipt') == False]\n",
    "\n",
    "df_all.columns\n",
    "\n",
    "dct = { '^Tolls and Tariffs' : 'Tolls & Tariffs'}\n",
    "\n",
    "df_all['featured_information_type'] = df_all['featured_information_type'].replace(dct, regex=True)\n",
    "\n",
    "df_all.shape\n",
    "df_all.nunique()\n",
    "df_all.to_csv('Group1Tolls.csv', index = False)"
   ]
  },
  {
   "cell_type": "code",
   "execution_count": null,
   "id": "a4e43ee8",
   "metadata": {},
   "outputs": [],
   "source": []
  }
 ],
 "metadata": {
  "kernelspec": {
   "display_name": "Python 3",
   "language": "python",
   "name": "python3"
  },
  "language_info": {
   "codemirror_mode": {
    "name": "ipython",
    "version": 3
   },
   "file_extension": ".py",
   "mimetype": "text/x-python",
   "name": "python",
   "nbconvert_exporter": "python",
   "pygments_lexer": "ipython3",
   "version": "3.8.5"
  },
  "toc": {
   "base_numbering": 1,
   "nav_menu": {},
   "number_sections": true,
   "sideBar": true,
   "skip_h1_title": false,
   "title_cell": "Table of Contents",
   "title_sidebar": "Contents",
   "toc_cell": true,
   "toc_position": {
    "height": "calc(100% - 180px)",
    "left": "10px",
    "top": "150px",
    "width": "287.734px"
   },
   "toc_section_display": true,
   "toc_window_display": true
  }
 },
 "nbformat": 4,
 "nbformat_minor": 5
}
